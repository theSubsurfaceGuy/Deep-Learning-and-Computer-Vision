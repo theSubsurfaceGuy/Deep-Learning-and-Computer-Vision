{
  "nbformat": 4,
  "nbformat_minor": 0,
  "metadata": {
    "accelerator": "GPU",
    "colab": {
      "name": "Deep Learning for facies classification.ipynb",
      "provenance": [],
      "machine_shape": "hm"
    },
    "kernelspec": {
      "display_name": "Python 3",
      "name": "python3"
    }
  },
  "cells": [
    {
      "cell_type": "code",
      "metadata": {
        "id": "IXaSB35OKKQR",
        "colab": {
          "base_uri": "https://localhost:8080/",
          "height": 55
        },
        "outputId": "15539f9e-fb0b-47ef-c128-92c87ba8074f"
      },
      "source": [
        "from google.colab import drive\n",
        "drive.mount('/content/drive')"
      ],
      "execution_count": null,
      "outputs": [
        {
          "output_type": "stream",
          "text": [
            "Drive already mounted at /content/drive; to attempt to forcibly remount, call drive.mount(\"/content/drive\", force_remount=True).\n"
          ],
          "name": "stdout"
        }
      ]
    },
    {
      "cell_type": "code",
      "metadata": {
        "id": "C58z_IRF3Hk-"
      },
      "source": [
        "import numpy as np\n",
        "import seaborn as sns\n",
        "import pandas as pd\n",
        "import tensorflow as tf\n",
        "from tensorflow import keras\n",
        "import matplotlib.pyplot as plt\n",
        "from mpl_toolkits.axes_grid1 import make_axes_locatable\n",
        "import matplotlib.colors as colors\n",
        "import matplotlib as mpl\n",
        "from tensorflow.keras import backend as K\n",
        "from tensorflow.keras.models import Sequential\n",
        "from tensorflow.keras.layers import InputLayer, Input\n",
        "from tensorflow.keras.layers import Dense\n",
        "from tensorflow.keras.callbacks import TensorBoard\n",
        "from tensorflow.keras.optimizers import Adam\n",
        "from tensorflow.keras.models import load_model\n",
        "from tensorflow.keras.callbacks import EarlyStopping"
      ],
      "execution_count": null,
      "outputs": []
    },
    {
      "cell_type": "code",
      "metadata": {
        "id": "knycAvFU3ViC",
        "colab": {
          "base_uri": "https://localhost:8080/",
          "height": 165
        },
        "outputId": "70a3fef6-14d7-4cf9-84c4-0decf0e0ffb9"
      },
      "source": [
        "pip install scikit-optimize"
      ],
      "execution_count": null,
      "outputs": [
        {
          "output_type": "stream",
          "text": [
            "Requirement already satisfied: scikit-optimize in /usr/local/lib/python3.6/dist-packages (0.8.1)\n",
            "Requirement already satisfied: numpy>=1.13.3 in /usr/local/lib/python3.6/dist-packages (from scikit-optimize) (1.18.5)\n",
            "Requirement already satisfied: scipy>=0.19.1 in /usr/local/lib/python3.6/dist-packages (from scikit-optimize) (1.4.1)\n",
            "Requirement already satisfied: pyaml>=16.9 in /usr/local/lib/python3.6/dist-packages (from scikit-optimize) (20.4.0)\n",
            "Requirement already satisfied: scikit-learn>=0.20.0 in /usr/local/lib/python3.6/dist-packages (from scikit-optimize) (0.22.2.post1)\n",
            "Requirement already satisfied: joblib>=0.11 in /usr/local/lib/python3.6/dist-packages (from scikit-optimize) (0.16.0)\n",
            "Requirement already satisfied: PyYAML in /usr/local/lib/python3.6/dist-packages (from pyaml>=16.9->scikit-optimize) (3.13)\n"
          ],
          "name": "stdout"
        }
      ]
    },
    {
      "cell_type": "code",
      "metadata": {
        "id": "3Aj-XBei3cpm"
      },
      "source": [
        "import skopt\n",
        "from skopt import gp_minimize, forest_minimize\n",
        "from skopt.space import Real, Categorical, Integer\n",
        "from skopt.plots import plot_convergence\n",
        "from skopt.plots import plot_objective, plot_evaluations\n",
        "from skopt.plots import plot_objective\n",
        "from skopt.utils import use_named_args"
      ],
      "execution_count": null,
      "outputs": []
    },
    {
      "cell_type": "code",
      "metadata": {
        "id": "0d2cQwlHKo2n"
      },
      "source": [
        "df = pd.read_csv('/content/drive/My Drive/FORCE_Facies/C4_training.csv')"
      ],
      "execution_count": null,
      "outputs": []
    },
    {
      "cell_type": "code",
      "metadata": {
        "id": "CJ0C0Ow43kTv",
        "colab": {
          "base_uri": "https://localhost:8080/",
          "height": 308
        },
        "outputId": "a07ee6a7-3dd3-49bb-d96a-07f4dc7862b1"
      },
      "source": [
        "df.describe()"
      ],
      "execution_count": null,
      "outputs": [
        {
          "output_type": "execute_result",
          "data": {
            "text/html": [
              "<div>\n",
              "<style scoped>\n",
              "    .dataframe tbody tr th:only-of-type {\n",
              "        vertical-align: middle;\n",
              "    }\n",
              "\n",
              "    .dataframe tbody tr th {\n",
              "        vertical-align: top;\n",
              "    }\n",
              "\n",
              "    .dataframe thead th {\n",
              "        text-align: right;\n",
              "    }\n",
              "</style>\n",
              "<table border=\"1\" class=\"dataframe\">\n",
              "  <thead>\n",
              "    <tr style=\"text-align: right;\">\n",
              "      <th></th>\n",
              "      <th>Unnamed: 0</th>\n",
              "      <th>DEPTH_MD</th>\n",
              "      <th>X_LOC</th>\n",
              "      <th>Y_LOC</th>\n",
              "      <th>Z_LOC</th>\n",
              "      <th>CALI</th>\n",
              "      <th>RSHA</th>\n",
              "      <th>RMED</th>\n",
              "      <th>RDEP</th>\n",
              "      <th>RHOB</th>\n",
              "      <th>GR</th>\n",
              "      <th>SGR</th>\n",
              "      <th>NPHI</th>\n",
              "      <th>PEF</th>\n",
              "      <th>DTC</th>\n",
              "      <th>SP</th>\n",
              "      <th>BS</th>\n",
              "      <th>ROP</th>\n",
              "      <th>DTS</th>\n",
              "      <th>DCAL</th>\n",
              "      <th>DRHO</th>\n",
              "      <th>MUDWEIGHT</th>\n",
              "      <th>RMIC</th>\n",
              "      <th>ROPA</th>\n",
              "      <th>RXO</th>\n",
              "      <th>FORCE_2020_LITHOFACIES_LITHOLOGY</th>\n",
              "      <th>FORCE_2020_LITHOFACIES_CONFIDENCE</th>\n",
              "      <th>Log_RDEP</th>\n",
              "      <th>Log_RMED</th>\n",
              "    </tr>\n",
              "  </thead>\n",
              "  <tbody>\n",
              "    <tr>\n",
              "      <th>count</th>\n",
              "      <td>1.756140e+05</td>\n",
              "      <td>175614.000000</td>\n",
              "      <td>168222.000000</td>\n",
              "      <td>1.682220e+05</td>\n",
              "      <td>168222.000000</td>\n",
              "      <td>175352.000000</td>\n",
              "      <td>113948.000000</td>\n",
              "      <td>159704.000000</td>\n",
              "      <td>168222.000000</td>\n",
              "      <td>175614.000000</td>\n",
              "      <td>175614.000000</td>\n",
              "      <td>17350.000000</td>\n",
              "      <td>175614.000000</td>\n",
              "      <td>175614.000000</td>\n",
              "      <td>175614.000000</td>\n",
              "      <td>175614.000000</td>\n",
              "      <td>97563.000000</td>\n",
              "      <td>172822.000000</td>\n",
              "      <td>6556.000000</td>\n",
              "      <td>80255.000000</td>\n",
              "      <td>144408.000000</td>\n",
              "      <td>161957.000000</td>\n",
              "      <td>0.0</td>\n",
              "      <td>4805.000000</td>\n",
              "      <td>43415.000000</td>\n",
              "      <td>175614.000000</td>\n",
              "      <td>175596.000000</td>\n",
              "      <td>175614.000000</td>\n",
              "      <td>175614.000000</td>\n",
              "    </tr>\n",
              "    <tr>\n",
              "      <th>mean</th>\n",
              "      <td>1.152380e+05</td>\n",
              "      <td>1830.033819</td>\n",
              "      <td>455666.724753</td>\n",
              "      <td>6.462144e+06</td>\n",
              "      <td>-1777.649642</td>\n",
              "      <td>13.688447</td>\n",
              "      <td>25.952544</td>\n",
              "      <td>2.187289</td>\n",
              "      <td>45.229261</td>\n",
              "      <td>2.166009</td>\n",
              "      <td>64.567342</td>\n",
              "      <td>59.813135</td>\n",
              "      <td>0.371598</td>\n",
              "      <td>5.450987</td>\n",
              "      <td>120.917327</td>\n",
              "      <td>87.463690</td>\n",
              "      <td>12.582336</td>\n",
              "      <td>33.196443</td>\n",
              "      <td>153.686679</td>\n",
              "      <td>2.071115</td>\n",
              "      <td>0.014824</td>\n",
              "      <td>1.760229</td>\n",
              "      <td>NaN</td>\n",
              "      <td>23.372037</td>\n",
              "      <td>-96.731579</td>\n",
              "      <td>63574.870489</td>\n",
              "      <td>1.218718</td>\n",
              "      <td>0.172444</td>\n",
              "      <td>0.169301</td>\n",
              "    </tr>\n",
              "    <tr>\n",
              "      <th>std</th>\n",
              "      <td>1.317188e+05</td>\n",
              "      <td>753.278483</td>\n",
              "      <td>25729.093684</td>\n",
              "      <td>1.842443e+04</td>\n",
              "      <td>756.252640</td>\n",
              "      <td>3.480000</td>\n",
              "      <td>178.390558</td>\n",
              "      <td>24.990300</td>\n",
              "      <td>276.713635</td>\n",
              "      <td>0.236994</td>\n",
              "      <td>35.837982</td>\n",
              "      <td>25.538669</td>\n",
              "      <td>0.147554</td>\n",
              "      <td>5.957969</td>\n",
              "      <td>34.746590</td>\n",
              "      <td>78.164370</td>\n",
              "      <td>3.112300</td>\n",
              "      <td>72.034806</td>\n",
              "      <td>13.269154</td>\n",
              "      <td>104.882098</td>\n",
              "      <td>0.062637</td>\n",
              "      <td>14.186789</td>\n",
              "      <td>NaN</td>\n",
              "      <td>7.501500</td>\n",
              "      <td>323.855787</td>\n",
              "      <td>13993.658527</td>\n",
              "      <td>0.485866</td>\n",
              "      <td>0.589412</td>\n",
              "      <td>0.491071</td>\n",
              "    </tr>\n",
              "    <tr>\n",
              "      <th>min</th>\n",
              "      <td>0.000000e+00</td>\n",
              "      <td>162.593016</td>\n",
              "      <td>436790.843750</td>\n",
              "      <td>6.421578e+06</td>\n",
              "      <td>-3246.156250</td>\n",
              "      <td>5.946157</td>\n",
              "      <td>0.005141</td>\n",
              "      <td>-0.008419</td>\n",
              "      <td>0.087607</td>\n",
              "      <td>1.343777</td>\n",
              "      <td>0.109284</td>\n",
              "      <td>-196.869995</td>\n",
              "      <td>-0.023143</td>\n",
              "      <td>-4.410029</td>\n",
              "      <td>7.415132</td>\n",
              "      <td>-2.199269</td>\n",
              "      <td>8.500000</td>\n",
              "      <td>0.018832</td>\n",
              "      <td>109.256126</td>\n",
              "      <td>-12.215459</td>\n",
              "      <td>-1.795894</td>\n",
              "      <td>0.125818</td>\n",
              "      <td>NaN</td>\n",
              "      <td>0.556113</td>\n",
              "      <td>-999.900024</td>\n",
              "      <td>30000.000000</td>\n",
              "      <td>1.000000</td>\n",
              "      <td>-1.057460</td>\n",
              "      <td>-1.189528</td>\n",
              "    </tr>\n",
              "    <tr>\n",
              "      <th>25%</th>\n",
              "      <td>4.390325e+04</td>\n",
              "      <td>1225.839062</td>\n",
              "      <td>438593.968750</td>\n",
              "      <td>6.452288e+06</td>\n",
              "      <td>-2420.333557</td>\n",
              "      <td>12.207208</td>\n",
              "      <td>0.717646</td>\n",
              "      <td>0.776958</td>\n",
              "      <td>0.747340</td>\n",
              "      <td>1.994043</td>\n",
              "      <td>40.987764</td>\n",
              "      <td>41.281138</td>\n",
              "      <td>0.252784</td>\n",
              "      <td>2.940292</td>\n",
              "      <td>87.131342</td>\n",
              "      <td>45.670704</td>\n",
              "      <td>12.250001</td>\n",
              "      <td>3.975974</td>\n",
              "      <td>143.911385</td>\n",
              "      <td>0.039300</td>\n",
              "      <td>-0.006000</td>\n",
              "      <td>0.141395</td>\n",
              "      <td>NaN</td>\n",
              "      <td>18.091204</td>\n",
              "      <td>0.527370</td>\n",
              "      <td>65000.000000</td>\n",
              "      <td>1.000000</td>\n",
              "      <td>-0.119238</td>\n",
              "      <td>-0.095687</td>\n",
              "    </tr>\n",
              "    <tr>\n",
              "      <th>50%</th>\n",
              "      <td>9.316350e+04</td>\n",
              "      <td>1840.110398</td>\n",
              "      <td>444920.343750</td>\n",
              "      <td>6.462992e+06</td>\n",
              "      <td>-1761.966431</td>\n",
              "      <td>13.012215</td>\n",
              "      <td>0.939032</td>\n",
              "      <td>1.112542</td>\n",
              "      <td>1.155919</td>\n",
              "      <td>2.118043</td>\n",
              "      <td>63.814432</td>\n",
              "      <td>62.973612</td>\n",
              "      <td>0.426183</td>\n",
              "      <td>4.453916</td>\n",
              "      <td>133.006470</td>\n",
              "      <td>73.630066</td>\n",
              "      <td>12.250001</td>\n",
              "      <td>16.044679</td>\n",
              "      <td>156.334686</td>\n",
              "      <td>0.495774</td>\n",
              "      <td>0.006712</td>\n",
              "      <td>0.155774</td>\n",
              "      <td>NaN</td>\n",
              "      <td>24.534739</td>\n",
              "      <td>0.869258</td>\n",
              "      <td>65000.000000</td>\n",
              "      <td>1.000000</td>\n",
              "      <td>0.073176</td>\n",
              "      <td>0.068290</td>\n",
              "    </tr>\n",
              "    <tr>\n",
              "      <th>75%</th>\n",
              "      <td>1.699588e+05</td>\n",
              "      <td>2470.146147</td>\n",
              "      <td>460425.343750</td>\n",
              "      <td>6.470982e+06</td>\n",
              "      <td>-1167.600311</td>\n",
              "      <td>15.955509</td>\n",
              "      <td>1.346923</td>\n",
              "      <td>1.648979</td>\n",
              "      <td>1.688341</td>\n",
              "      <td>2.354990</td>\n",
              "      <td>83.280855</td>\n",
              "      <td>73.933750</td>\n",
              "      <td>0.496871</td>\n",
              "      <td>6.096446</td>\n",
              "      <td>147.722992</td>\n",
              "      <td>100.208622</td>\n",
              "      <td>14.750000</td>\n",
              "      <td>35.019391</td>\n",
              "      <td>162.949692</td>\n",
              "      <td>1.412014</td>\n",
              "      <td>0.034699</td>\n",
              "      <td>1.138351</td>\n",
              "      <td>NaN</td>\n",
              "      <td>29.426481</td>\n",
              "      <td>1.582943</td>\n",
              "      <td>65030.000000</td>\n",
              "      <td>1.000000</td>\n",
              "      <td>0.254242</td>\n",
              "      <td>0.265049</td>\n",
              "    </tr>\n",
              "    <tr>\n",
              "      <th>max</th>\n",
              "      <td>1.170510e+06</td>\n",
              "      <td>3272.024000</td>\n",
              "      <td>520153.187500</td>\n",
              "      <td>6.500268e+06</td>\n",
              "      <td>-135.593018</td>\n",
              "      <td>25.806299</td>\n",
              "      <td>2193.904541</td>\n",
              "      <td>1841.164062</td>\n",
              "      <td>1999.887085</td>\n",
              "      <td>3.054074</td>\n",
              "      <td>804.298950</td>\n",
              "      <td>152.516830</td>\n",
              "      <td>0.817310</td>\n",
              "      <td>365.575592</td>\n",
              "      <td>230.432953</td>\n",
              "      <td>526.547302</td>\n",
              "      <td>26.000002</td>\n",
              "      <td>2224.647461</td>\n",
              "      <td>190.500519</td>\n",
              "      <td>10011.422852</td>\n",
              "      <td>0.323460</td>\n",
              "      <td>185.730927</td>\n",
              "      <td>NaN</td>\n",
              "      <td>40.068165</td>\n",
              "      <td>2000.000000</td>\n",
              "      <td>99000.000000</td>\n",
              "      <td>3.000000</td>\n",
              "      <td>3.301005</td>\n",
              "      <td>3.265092</td>\n",
              "    </tr>\n",
              "  </tbody>\n",
              "</table>\n",
              "</div>"
            ],
            "text/plain": [
              "         Unnamed: 0       DEPTH_MD  ...       Log_RDEP       Log_RMED\n",
              "count  1.756140e+05  175614.000000  ...  175614.000000  175614.000000\n",
              "mean   1.152380e+05    1830.033819  ...       0.172444       0.169301\n",
              "std    1.317188e+05     753.278483  ...       0.589412       0.491071\n",
              "min    0.000000e+00     162.593016  ...      -1.057460      -1.189528\n",
              "25%    4.390325e+04    1225.839062  ...      -0.119238      -0.095687\n",
              "50%    9.316350e+04    1840.110398  ...       0.073176       0.068290\n",
              "75%    1.699588e+05    2470.146147  ...       0.254242       0.265049\n",
              "max    1.170510e+06    3272.024000  ...       3.301005       3.265092\n",
              "\n",
              "[8 rows x 29 columns]"
            ]
          },
          "metadata": {
            "tags": []
          },
          "execution_count": 115
        }
      ]
    },
    {
      "cell_type": "code",
      "metadata": {
        "id": "pU6Ln_3u3o6Y"
      },
      "source": [
        "lithology_keys = {30000: 'Sandstone',\n",
        "                 65030: 'Sandstone/Shale',\n",
        "                 65000: 'Shale',\n",
        "                 80000: 'Marl',\n",
        "                 74000: 'Dolomite',\n",
        "                 70000: 'Limestone',\n",
        "                 70032: 'Chalk',\n",
        "                 88000: 'Halite',\n",
        "                 86000: 'Anhydrite',\n",
        "                 99000: 'Tuff',\n",
        "                 90000: 'Coal',\n",
        "                 93000: 'Basement'}"
      ],
      "execution_count": null,
      "outputs": []
    },
    {
      "cell_type": "code",
      "metadata": {
        "id": "Gr70x-2b3yCe"
      },
      "source": [
        "# specify some data types may python concern about\n",
        "df['FORCE_2020_LITHOFACIES_LITHOLOGY'] = df['FORCE_2020_LITHOFACIES_LITHOLOGY'].astype('int')\n",
        "df['DEPTH_MD'] = df['DEPTH_MD'].astype('float')\n",
        "df['WELL'] = df['WELL'].astype('category')\n",
        "df['FORMATION'] = df['FORMATION'].astype('category')\n",
        "df['GROUP'] = df['GROUP'].astype('category')"
      ],
      "execution_count": null,
      "outputs": []
    },
    {
      "cell_type": "code",
      "metadata": {
        "id": "lYIWfGkV18VP"
      },
      "source": [
        "dummies = pd.get_dummies(df['FORCE_2020_LITHOFACIES_LITHOLOGY'])                        \n",
        "Facies_cat = dummies.columns\n",
        "labels = dummies.values # target matirx"
      ],
      "execution_count": null,
      "outputs": []
    },
    {
      "cell_type": "code",
      "metadata": {
        "id": "nWvZePI33GoV"
      },
      "source": [
        "# select predictors\n",
        "features = df[['GR','RHOB','NPHI','DTC','PEF','SP','Log_RDEP','Log_RMED']]"
      ],
      "execution_count": null,
      "outputs": []
    },
    {
      "cell_type": "code",
      "metadata": {
        "id": "8hHOQVj25ObA",
        "colab": {
          "base_uri": "https://localhost:8080/",
          "height": 198
        },
        "outputId": "b680c5b5-3952-408b-ca56-2422eae71307"
      },
      "source": [
        "features.head()"
      ],
      "execution_count": null,
      "outputs": [
        {
          "output_type": "execute_result",
          "data": {
            "text/html": [
              "<div>\n",
              "<style scoped>\n",
              "    .dataframe tbody tr th:only-of-type {\n",
              "        vertical-align: middle;\n",
              "    }\n",
              "\n",
              "    .dataframe tbody tr th {\n",
              "        vertical-align: top;\n",
              "    }\n",
              "\n",
              "    .dataframe thead th {\n",
              "        text-align: right;\n",
              "    }\n",
              "</style>\n",
              "<table border=\"1\" class=\"dataframe\">\n",
              "  <thead>\n",
              "    <tr style=\"text-align: right;\">\n",
              "      <th></th>\n",
              "      <th>GR</th>\n",
              "      <th>RHOB</th>\n",
              "      <th>NPHI</th>\n",
              "      <th>DTC</th>\n",
              "      <th>PEF</th>\n",
              "      <th>SP</th>\n",
              "      <th>Log_RDEP</th>\n",
              "      <th>Log_RMED</th>\n",
              "    </tr>\n",
              "  </thead>\n",
              "  <tbody>\n",
              "    <tr>\n",
              "      <th>0</th>\n",
              "      <td>80.200851</td>\n",
              "      <td>1.884186</td>\n",
              "      <td>0.514642</td>\n",
              "      <td>161.131180</td>\n",
              "      <td>20.915468</td>\n",
              "      <td>24.612379</td>\n",
              "      <td>0.254954</td>\n",
              "      <td>0.207206</td>\n",
              "    </tr>\n",
              "    <tr>\n",
              "      <th>1</th>\n",
              "      <td>79.262886</td>\n",
              "      <td>1.889794</td>\n",
              "      <td>0.513352</td>\n",
              "      <td>160.603470</td>\n",
              "      <td>19.383013</td>\n",
              "      <td>23.895531</td>\n",
              "      <td>0.254220</td>\n",
              "      <td>0.208997</td>\n",
              "    </tr>\n",
              "    <tr>\n",
              "      <th>2</th>\n",
              "      <td>74.821999</td>\n",
              "      <td>1.896523</td>\n",
              "      <td>0.513352</td>\n",
              "      <td>160.173615</td>\n",
              "      <td>22.591518</td>\n",
              "      <td>23.916357</td>\n",
              "      <td>0.255449</td>\n",
              "      <td>0.211243</td>\n",
              "    </tr>\n",
              "    <tr>\n",
              "      <th>3</th>\n",
              "      <td>72.878922</td>\n",
              "      <td>1.891913</td>\n",
              "      <td>0.513352</td>\n",
              "      <td>160.149429</td>\n",
              "      <td>32.191910</td>\n",
              "      <td>23.793688</td>\n",
              "      <td>0.255638</td>\n",
              "      <td>0.209942</td>\n",
              "    </tr>\n",
              "    <tr>\n",
              "      <th>4</th>\n",
              "      <td>71.729141</td>\n",
              "      <td>1.880034</td>\n",
              "      <td>0.514642</td>\n",
              "      <td>160.128342</td>\n",
              "      <td>38.495632</td>\n",
              "      <td>24.104078</td>\n",
              "      <td>0.254137</td>\n",
              "      <td>0.204847</td>\n",
              "    </tr>\n",
              "  </tbody>\n",
              "</table>\n",
              "</div>"
            ],
            "text/plain": [
              "          GR      RHOB      NPHI  ...         SP  Log_RDEP  Log_RMED\n",
              "0  80.200851  1.884186  0.514642  ...  24.612379  0.254954  0.207206\n",
              "1  79.262886  1.889794  0.513352  ...  23.895531  0.254220  0.208997\n",
              "2  74.821999  1.896523  0.513352  ...  23.916357  0.255449  0.211243\n",
              "3  72.878922  1.891913  0.513352  ...  23.793688  0.255638  0.209942\n",
              "4  71.729141  1.880034  0.514642  ...  24.104078  0.254137  0.204847\n",
              "\n",
              "[5 rows x 8 columns]"
            ]
          },
          "metadata": {
            "tags": []
          },
          "execution_count": 120
        }
      ]
    },
    {
      "cell_type": "code",
      "metadata": {
        "id": "ed5ojeqj6kwq"
      },
      "source": [
        "from sklearn import preprocessing\n",
        "from sklearn.preprocessing import RobustScaler\n",
        "scaler = preprocessing.RobustScaler(quantile_range=(25.0, 75.0)).fit(features)\n",
        "scaled_features = scaler.transform(features)"
      ],
      "execution_count": null,
      "outputs": []
    },
    {
      "cell_type": "code",
      "metadata": {
        "id": "doC8fwPa6p80"
      },
      "source": [
        "from sklearn.model_selection import train_test_split\n",
        "X_train, X_test, y_train, y_test = train_test_split(scaled_features, labels, test_size=0.2, random_state=42)"
      ],
      "execution_count": null,
      "outputs": []
    },
    {
      "cell_type": "code",
      "metadata": {
        "id": "XPnvUToC6sL2"
      },
      "source": [
        "dim_learning_rate = Real(low=1e-6, high=1e-1, prior='log-uniform',\n",
        "                         name='learning_rate')"
      ],
      "execution_count": null,
      "outputs": []
    },
    {
      "cell_type": "code",
      "metadata": {
        "id": "4v8wKxLq6vNE"
      },
      "source": [
        "dim_num_dense_layers = Integer(low=1, high=10, name='num_dense_layers')"
      ],
      "execution_count": null,
      "outputs": []
    },
    {
      "cell_type": "code",
      "metadata": {
        "id": "oIK3XWLt6x1r"
      },
      "source": [
        "dim_num_dense_nodes = Integer(low=5, high=512, name='num_dense_nodes')\n"
      ],
      "execution_count": null,
      "outputs": []
    },
    {
      "cell_type": "code",
      "metadata": {
        "id": "mcgEFyW86zUs"
      },
      "source": [
        "dim_activation = Categorical(categories=['relu', 'sigmoid'],\n",
        "                             name='activation')"
      ],
      "execution_count": null,
      "outputs": []
    },
    {
      "cell_type": "code",
      "metadata": {
        "id": "5DYmw8Mz602j"
      },
      "source": [
        "dimensions = [dim_learning_rate,\n",
        "              dim_num_dense_layers,\n",
        "              dim_num_dense_nodes,\n",
        "              dim_activation]"
      ],
      "execution_count": null,
      "outputs": []
    },
    {
      "cell_type": "code",
      "metadata": {
        "id": "Nn2ALDws62cb"
      },
      "source": [
        "default_parameters = [1e-5, 1, 16, 'relu']"
      ],
      "execution_count": null,
      "outputs": []
    },
    {
      "cell_type": "code",
      "metadata": {
        "id": "yv-7UNqR65_h"
      },
      "source": [
        "\n",
        "# This is a function to log traning progress so that can be viewed by TnesorBoard.\n",
        "def log_dir_name(learning_rate, num_dense_layers,\n",
        "                 num_dense_nodes, activation):\n",
        "\n",
        "    # The dir-name for the TensorBoard log-dir.\n",
        "    s = \"./19_logs/lr_{0:.0e}_layers_{1}_nodes_{2}_{3}/\"\n",
        "\n",
        "    # Insert all the hyper-parameters in the dir-name.\n",
        "    log_dir = s.format(learning_rate,\n",
        "                       num_dense_layers,\n",
        "                       num_dense_nodes,\n",
        "                       activation)\n",
        "\n",
        "    return log_dir"
      ],
      "execution_count": null,
      "outputs": []
    },
    {
      "cell_type": "code",
      "metadata": {
        "id": "j3WKPeDu7ErI"
      },
      "source": [
        "def create_model(learning_rate, num_dense_layers,\n",
        "                 num_dense_nodes, activation):\n",
        "    \n",
        "    model = Sequential()\n",
        "\n",
        "    model.add(InputLayer(input_shape=(scaled_features.shape[1])))\n",
        "    \n",
        "    for i in range(num_dense_layers):\n",
        "        name = 'layer_dense_{0}'.format(i+1)\n",
        "\n",
        "        # add dense layer\n",
        "        model.add(Dense(num_dense_nodes,\n",
        "                        activation=activation,\n",
        "                        name=name))\n",
        "\n",
        "    # use softmax-activation for classification.\n",
        "    model.add(Dense(labels.shape[1], activation='softmax'))\n",
        "    \n",
        "    # Use the Adam method for training the network.\n",
        "    optimizer = Adam(lr=learning_rate)\n",
        "    \n",
        "    #compile the model so it can be trained.\n",
        "    model.compile(optimizer=optimizer,\n",
        "                  loss='categorical_crossentropy',\n",
        "                  metrics=['accuracy'])\n",
        "    \n",
        "    return model\n"
      ],
      "execution_count": null,
      "outputs": []
    },
    {
      "cell_type": "code",
      "metadata": {
        "id": "W4thHw0a7IG9"
      },
      "source": [
        "path_best_model = '19_best_model.h5'"
      ],
      "execution_count": null,
      "outputs": []
    },
    {
      "cell_type": "code",
      "metadata": {
        "id": "7uTikGAZ7LKi"
      },
      "source": [
        "\n",
        "#define global variable to store accuracy\n",
        "best_accuracy = 0.0\n",
        "\n",
        "validation_data = (X_test, y_test)"
      ],
      "execution_count": null,
      "outputs": []
    },
    {
      "cell_type": "code",
      "metadata": {
        "id": "SxrtwFyp7QMM"
      },
      "source": [
        "@use_named_args(dimensions=dimensions)\n",
        "def fitness(learning_rate, num_dense_layers,\n",
        "            num_dense_nodes, activation):\n",
        "    \"\"\"\n",
        "    Hyper-parameters:\n",
        "    learning_rate:     Learning-rate for the optimizer.\n",
        "    num_dense_layers:  Number of dense layers.\n",
        "    num_dense_nodes:   Number of nodes in each dense layer.\n",
        "    activation:        Activation function for all layers.\n",
        "    \"\"\"\n",
        "\n",
        "    # Print the hyper-parameters.\n",
        "    print('learning rate: {0:.1e}'.format(learning_rate))\n",
        "    print('num_dense_layers:', num_dense_layers)\n",
        "    print('num_dense_nodes:', num_dense_nodes)\n",
        "    print('activation:', activation)\n",
        "    print()\n",
        "    \n",
        "    # Create the neural network with these hyper-parameters.\n",
        "    model = create_model(learning_rate=learning_rate,\n",
        "                         num_dense_layers=num_dense_layers,\n",
        "                         num_dense_nodes=num_dense_nodes,\n",
        "                         activation=activation)\n",
        "\n",
        "    # Dir-name for the TensorBoard log-files.\n",
        "    log_dir = log_dir_name(learning_rate, num_dense_layers,\n",
        "                           num_dense_nodes, activation)\n",
        "    \n",
        "    # Create a callback-function for Keras which will be\n",
        "    # run after each epoch has ended during training.\n",
        "    # This saves the log-files for TensorBoard.\n",
        "    # Note that there are complications when histogram_freq=1.\n",
        "    # It might give strange errors and it also does not properly\n",
        "    # support Keras data-generators for the validation-set.\n",
        "    callback_log = TensorBoard(\n",
        "        log_dir=log_dir,\n",
        "        histogram_freq=0,\n",
        "        write_graph=True,\n",
        "        write_grads=False,\n",
        "        write_images=False)\n",
        "   \n",
        "    # Use Keras to train the model.\n",
        "    history = model.fit(x= X_train,\n",
        "                        y= y_train,\n",
        "                        epochs=3,\n",
        "                        batch_size=128,\n",
        "                        validation_data=validation_data,\n",
        "                        callbacks=[callback_log])\n",
        "\n",
        "    # Get the classification accuracy on the validation-set\n",
        "    # after the last training-epoch.\n",
        "    accuracy = history.history['val_accuracy'][-1]\n",
        "\n",
        "    # Print the classification accuracy.\n",
        "    print()\n",
        "    print(\"Accuracy: {0:.2%}\".format(accuracy))\n",
        "    print()\n",
        "\n",
        "    # Save the model if it improves on the best-found performance.\n",
        "    # We use the global keyword so we update the variable outside\n",
        "    # of this function.\n",
        "    global best_accuracy\n",
        "\n",
        "    # If the classification accuracy of the saved model is improved ...\n",
        "    if accuracy > best_accuracy:\n",
        "        # Save the new model to harddisk.\n",
        "        model.save(path_best_model)\n",
        "        \n",
        "        # Update the classification accuracy.\n",
        "        best_accuracy = accuracy\n",
        "\n",
        "    # Delete the Keras model with these hyper-parameters from memory.\n",
        "    del model\n",
        "    \n",
        "    # Clear the Keras session, otherwise it will keep adding new\n",
        "    # models to the same TensorFlow graph each time we create\n",
        "    # a model with a different set of hyper-parameters.\n",
        "    K.clear_session()\n",
        "    \n",
        "    # NOTE: Scikit-optimize does minimization so it tries to\n",
        "    # find a set of hyper-parameters with the LOWEST fitness-value.\n",
        "    # Because we are interested in the HIGHEST classification\n",
        "    # accuracy, we need to negate this number so it can be minimized.\n",
        "    return -accuracy\n",
        "# This function exactly comes from :Hvass-Labs, TensorFlow-Tutorials"
      ],
      "execution_count": null,
      "outputs": []
    },
    {
      "cell_type": "code",
      "metadata": {
        "id": "K-8uXFm87SZ8",
        "colab": {
          "base_uri": "https://localhost:8080/",
          "height": 328
        },
        "outputId": "b4870119-735c-4b6e-9bc0-1553216203bf"
      },
      "source": [
        "#Test with dafault parameters\n",
        "fitness(x= default_parameters)"
      ],
      "execution_count": null,
      "outputs": [
        {
          "output_type": "stream",
          "text": [
            "learning rate: 1.0e-05\n",
            "num_dense_layers: 1\n",
            "num_dense_nodes: 16\n",
            "activation: relu\n",
            "\n",
            "Epoch 1/3\n",
            "   2/1098 [..............................] - ETA: 37s - loss: 2.8139 - accuracy: 0.0312WARNING:tensorflow:Callbacks method `on_train_batch_end` is slow compared to the batch time (batch time: 0.0032s vs `on_train_batch_end` time: 0.0645s). Check your callbacks.\n",
            "1098/1098 [==============================] - 3s 3ms/step - loss: 2.8353 - accuracy: 0.0412 - val_loss: 2.7847 - val_accuracy: 0.0428\n",
            "Epoch 2/3\n",
            "1098/1098 [==============================] - 3s 2ms/step - loss: 2.7344 - accuracy: 0.0441 - val_loss: 2.6871 - val_accuracy: 0.0451\n",
            "Epoch 3/3\n",
            "1098/1098 [==============================] - 3s 2ms/step - loss: 2.6402 - accuracy: 0.0514 - val_loss: 2.5951 - val_accuracy: 0.0523\n",
            "\n",
            "Accuracy: 5.23%\n",
            "\n"
          ],
          "name": "stdout"
        },
        {
          "output_type": "execute_result",
          "data": {
            "text/plain": [
              "-0.05227343738079071"
            ]
          },
          "metadata": {
            "tags": []
          },
          "execution_count": 134
        }
      ]
    },
    {
      "cell_type": "code",
      "metadata": {
        "id": "gD5_qgW47VA2",
        "colab": {
          "base_uri": "https://localhost:8080/",
          "height": 1000
        },
        "outputId": "79a35041-f80f-4fed-ebe7-25aaab6c39d7"
      },
      "source": [
        "\n",
        "%%time\n",
        "search_result = gp_minimize(func=fitness,\n",
        "                            dimensions=dimensions,\n",
        "                            acq_func='EI', # Expected Improvement.\n",
        "                            n_calls=40,\n",
        "                            x0=default_parameters)\n",
        "# you may examine other kind of minimization\n",
        "# search_result = forest_minimize(func=fitness,\n",
        "#                             dimensions=dimensions,\n",
        "#                             base_estimator='RF', \n",
        "#                             n_calls=50,\n",
        "#                             random_state=4)"
      ],
      "execution_count": null,
      "outputs": [
        {
          "output_type": "stream",
          "text": [
            "learning rate: 1.0e-05\n",
            "num_dense_layers: 1\n",
            "num_dense_nodes: 16\n",
            "activation: relu\n",
            "\n",
            "Epoch 1/3\n",
            "   1/1098 [..............................] - ETA: 0s - loss: 2.6767 - accuracy: 0.1094WARNING:tensorflow:Callbacks method `on_train_batch_end` is slow compared to the batch time (batch time: 0.0031s vs `on_train_batch_end` time: 0.0335s). Check your callbacks.\n",
            "1098/1098 [==============================] - 3s 3ms/step - loss: 2.8063 - accuracy: 0.0643 - val_loss: 2.7524 - val_accuracy: 0.0743\n",
            "Epoch 2/3\n",
            "1098/1098 [==============================] - 3s 2ms/step - loss: 2.6935 - accuracy: 0.0933 - val_loss: 2.6424 - val_accuracy: 0.1168\n",
            "Epoch 3/3\n",
            "1098/1098 [==============================] - 3s 2ms/step - loss: 2.5870 - accuracy: 0.1454 - val_loss: 2.5381 - val_accuracy: 0.1764\n",
            "\n",
            "Accuracy: 17.64%\n",
            "\n",
            "learning rate: 4.8e-06\n",
            "num_dense_layers: 5\n",
            "num_dense_nodes: 195\n",
            "activation: relu\n",
            "\n",
            "Epoch 1/3\n",
            "   2/1098 [..............................] - ETA: 29s - loss: 2.5125 - accuracy: 0.0273WARNING:tensorflow:Callbacks method `on_train_batch_end` is slow compared to the batch time (batch time: 0.0050s vs `on_train_batch_end` time: 0.0479s). Check your callbacks.\n",
            "1098/1098 [==============================] - 3s 3ms/step - loss: 2.1341 - accuracy: 0.4991 - val_loss: 1.6064 - val_accuracy: 0.6282\n",
            "Epoch 2/3\n",
            "1098/1098 [==============================] - 3s 3ms/step - loss: 1.2656 - accuracy: 0.6600 - val_loss: 1.0766 - val_accuracy: 0.6905\n",
            "Epoch 3/3\n",
            "1098/1098 [==============================] - 3s 3ms/step - loss: 0.9838 - accuracy: 0.7106 - val_loss: 0.9019 - val_accuracy: 0.7276\n",
            "\n",
            "Accuracy: 72.76%\n",
            "\n",
            "learning rate: 4.1e-05\n",
            "num_dense_layers: 2\n",
            "num_dense_nodes: 426\n",
            "activation: sigmoid\n",
            "\n",
            "Epoch 1/3\n",
            "   1/1098 [..............................] - ETA: 0s - loss: 2.1055 - accuracy: 0.1562WARNING:tensorflow:Callbacks method `on_train_batch_end` is slow compared to the batch time (batch time: 0.0043s vs `on_train_batch_end` time: 0.0393s). Check your callbacks.\n",
            "1098/1098 [==============================] - 3s 3ms/step - loss: 1.2871 - accuracy: 0.6201 - val_loss: 1.1182 - val_accuracy: 0.6470\n",
            "Epoch 2/3\n",
            "1098/1098 [==============================] - 3s 3ms/step - loss: 1.0343 - accuracy: 0.6747 - val_loss: 0.9587 - val_accuracy: 0.7142\n",
            "Epoch 3/3\n",
            "1098/1098 [==============================] - 3s 3ms/step - loss: 0.9293 - accuracy: 0.7132 - val_loss: 0.8912 - val_accuracy: 0.7200\n",
            "\n",
            "Accuracy: 72.00%\n",
            "\n",
            "learning rate: 1.2e-02\n",
            "num_dense_layers: 3\n",
            "num_dense_nodes: 370\n",
            "activation: relu\n",
            "\n",
            "Epoch 1/3\n",
            "   1/1098 [..............................] - ETA: 0s - loss: 2.4617 - accuracy: 0.0859WARNING:tensorflow:Callbacks method `on_train_batch_end` is slow compared to the batch time (batch time: 0.0035s vs `on_train_batch_end` time: 0.0394s). Check your callbacks.\n",
            "1098/1098 [==============================] - 3s 3ms/step - loss: 0.5298 - accuracy: 0.8281 - val_loss: 0.4484 - val_accuracy: 0.8494\n",
            "Epoch 2/3\n",
            "1098/1098 [==============================] - 3s 3ms/step - loss: 0.4087 - accuracy: 0.8628 - val_loss: 0.4193 - val_accuracy: 0.8577\n",
            "Epoch 3/3\n",
            "1098/1098 [==============================] - 3s 3ms/step - loss: 0.3789 - accuracy: 0.8719 - val_loss: 0.3655 - val_accuracy: 0.8780\n",
            "\n",
            "Accuracy: 87.80%\n",
            "\n",
            "learning rate: 6.0e-03\n",
            "num_dense_layers: 7\n",
            "num_dense_nodes: 380\n",
            "activation: relu\n",
            "\n",
            "Epoch 1/3\n",
            "   2/1098 [..............................] - ETA: 32s - loss: 2.2085 - accuracy: 0.3438WARNING:tensorflow:Callbacks method `on_train_batch_end` is slow compared to the batch time (batch time: 0.0041s vs `on_train_batch_end` time: 0.0553s). Check your callbacks.\n",
            "1098/1098 [==============================] - 3s 3ms/step - loss: 0.6064 - accuracy: 0.8090 - val_loss: 0.5189 - val_accuracy: 0.8392\n",
            "Epoch 2/3\n",
            "1098/1098 [==============================] - 3s 3ms/step - loss: 0.4571 - accuracy: 0.8508 - val_loss: 0.4286 - val_accuracy: 0.8533\n",
            "Epoch 3/3\n",
            "1098/1098 [==============================] - 3s 3ms/step - loss: 0.4200 - accuracy: 0.8629 - val_loss: 0.3783 - val_accuracy: 0.8749\n",
            "\n",
            "Accuracy: 87.49%\n",
            "\n",
            "learning rate: 8.7e-02\n",
            "num_dense_layers: 9\n",
            "num_dense_nodes: 86\n",
            "activation: relu\n",
            "\n",
            "Epoch 1/3\n",
            "   2/1098 [..............................] - ETA: 36s - loss: 1334.3525 - accuracy: 0.3008WARNING:tensorflow:Callbacks method `on_train_batch_end` is slow compared to the batch time (batch time: 0.0039s vs `on_train_batch_end` time: 0.0617s). Check your callbacks.\n",
            "1098/1098 [==============================] - 4s 3ms/step - loss: 3.7320 - accuracy: 0.6187 - val_loss: 1.4032 - val_accuracy: 0.6115\n",
            "Epoch 2/3\n",
            "1098/1098 [==============================] - 4s 3ms/step - loss: 1.4068 - accuracy: 0.6098 - val_loss: 1.4011 - val_accuracy: 0.6115\n",
            "Epoch 3/3\n",
            "1098/1098 [==============================] - 4s 4ms/step - loss: 1.4069 - accuracy: 0.6098 - val_loss: 1.4041 - val_accuracy: 0.6115\n",
            "\n",
            "Accuracy: 61.15%\n",
            "\n",
            "learning rate: 2.5e-02\n",
            "num_dense_layers: 9\n",
            "num_dense_nodes: 487\n",
            "activation: relu\n",
            "\n",
            "Epoch 1/3\n",
            "   2/1098 [..............................] - ETA: 38s - loss: 118599.5938 - accuracy: 0.5195WARNING:tensorflow:Callbacks method `on_train_batch_end` is slow compared to the batch time (batch time: 0.0052s vs `on_train_batch_end` time: 0.0645s). Check your callbacks.\n",
            "1098/1098 [==============================] - 4s 4ms/step - loss: 217.1541 - accuracy: 0.6876 - val_loss: 0.8849 - val_accuracy: 0.7010\n",
            "Epoch 2/3\n",
            "1098/1098 [==============================] - 4s 3ms/step - loss: 4.6539 - accuracy: 0.6458 - val_loss: 1.4008 - val_accuracy: 0.6115\n",
            "Epoch 3/3\n",
            "1098/1098 [==============================] - 4s 3ms/step - loss: 1.4042 - accuracy: 0.6098 - val_loss: 1.4003 - val_accuracy: 0.6115\n",
            "\n",
            "Accuracy: 61.15%\n",
            "\n",
            "learning rate: 3.5e-06\n",
            "num_dense_layers: 4\n",
            "num_dense_nodes: 149\n",
            "activation: relu\n",
            "\n",
            "Epoch 1/3\n",
            "   2/1098 [..............................] - ETA: 29s - loss: 2.4501 - accuracy: 0.2578WARNING:tensorflow:Callbacks method `on_train_batch_end` is slow compared to the batch time (batch time: 0.0038s vs `on_train_batch_end` time: 0.0495s). Check your callbacks.\n",
            "1098/1098 [==============================] - 3s 3ms/step - loss: 2.2700 - accuracy: 0.5862 - val_loss: 2.0671 - val_accuracy: 0.6115\n",
            "Epoch 2/3\n",
            "1098/1098 [==============================] - 3s 3ms/step - loss: 1.8215 - accuracy: 0.6098 - val_loss: 1.5701 - val_accuracy: 0.6115\n",
            "Epoch 3/3\n",
            "1098/1098 [==============================] - 3s 3ms/step - loss: 1.3699 - accuracy: 0.6388 - val_loss: 1.2265 - val_accuracy: 0.6716\n",
            "\n",
            "Accuracy: 67.16%\n",
            "\n",
            "learning rate: 1.2e-06\n",
            "num_dense_layers: 8\n",
            "num_dense_nodes: 444\n",
            "activation: relu\n",
            "\n",
            "Epoch 1/3\n",
            "   2/1098 [..............................] - ETA: 36s - loss: 2.4703 - accuracy: 0.6289WARNING:tensorflow:Callbacks method `on_train_batch_end` is slow compared to the batch time (batch time: 0.0083s vs `on_train_batch_end` time: 0.0573s). Check your callbacks.\n",
            "1098/1098 [==============================] - 4s 3ms/step - loss: 2.2387 - accuracy: 0.6097 - val_loss: 1.8082 - val_accuracy: 0.6115\n",
            "Epoch 2/3\n",
            "1098/1098 [==============================] - 3s 3ms/step - loss: 1.4310 - accuracy: 0.6161 - val_loss: 1.2206 - val_accuracy: 0.6409\n",
            "Epoch 3/3\n",
            "1098/1098 [==============================] - 3s 3ms/step - loss: 1.1134 - accuracy: 0.6683 - val_loss: 1.0259 - val_accuracy: 0.7022\n",
            "\n",
            "Accuracy: 70.22%\n",
            "\n",
            "learning rate: 2.5e-04\n",
            "num_dense_layers: 5\n",
            "num_dense_nodes: 100\n",
            "activation: sigmoid\n",
            "\n",
            "Epoch 1/3\n",
            "   2/1098 [..............................] - ETA: 31s - loss: 3.0906 - accuracy: 0.1328WARNING:tensorflow:Callbacks method `on_train_batch_end` is slow compared to the batch time (batch time: 0.0043s vs `on_train_batch_end` time: 0.0527s). Check your callbacks.\n",
            "1098/1098 [==============================] - 3s 3ms/step - loss: 1.2551 - accuracy: 0.6260 - val_loss: 0.9295 - val_accuracy: 0.6949\n",
            "Epoch 2/3\n",
            "1098/1098 [==============================] - 3s 3ms/step - loss: 0.8760 - accuracy: 0.7311 - val_loss: 0.8338 - val_accuracy: 0.7426\n",
            "Epoch 3/3\n",
            "1098/1098 [==============================] - 3s 3ms/step - loss: 0.8286 - accuracy: 0.7405 - val_loss: 0.8110 - val_accuracy: 0.7433\n",
            "\n",
            "Accuracy: 74.33%\n",
            "\n",
            "learning rate: 6.7e-06\n",
            "num_dense_layers: 9\n",
            "num_dense_nodes: 508\n",
            "activation: sigmoid\n",
            "\n",
            "Epoch 1/3\n",
            "   2/1098 [..............................] - ETA: 39s - loss: 3.0975 - accuracy: 0.0547WARNING:tensorflow:Callbacks method `on_train_batch_end` is slow compared to the batch time (batch time: 0.0046s vs `on_train_batch_end` time: 0.0663s). Check your callbacks.\n",
            "1098/1098 [==============================] - 4s 4ms/step - loss: 1.5806 - accuracy: 0.5566 - val_loss: 1.4078 - val_accuracy: 0.6115\n",
            "Epoch 2/3\n",
            "1098/1098 [==============================] - 4s 3ms/step - loss: 1.4071 - accuracy: 0.6098 - val_loss: 1.4019 - val_accuracy: 0.6115\n",
            "Epoch 3/3\n",
            "1098/1098 [==============================] - 4s 3ms/step - loss: 1.4044 - accuracy: 0.6098 - val_loss: 1.4007 - val_accuracy: 0.6115\n",
            "\n",
            "Accuracy: 61.15%\n",
            "\n",
            "learning rate: 9.5e-02\n",
            "num_dense_layers: 6\n",
            "num_dense_nodes: 50\n",
            "activation: sigmoid\n",
            "\n",
            "Epoch 1/3\n",
            "   2/1098 [..............................] - ETA: 32s - loss: 2.5755 - accuracy: 0.3828WARNING:tensorflow:Callbacks method `on_train_batch_end` is slow compared to the batch time (batch time: 0.0041s vs `on_train_batch_end` time: 0.0546s). Check your callbacks.\n",
            "1098/1098 [==============================] - 3s 3ms/step - loss: 1.4255 - accuracy: 0.6093 - val_loss: 1.4340 - val_accuracy: 0.6115\n",
            "Epoch 2/3\n",
            "1098/1098 [==============================] - 3s 3ms/step - loss: 1.4225 - accuracy: 0.6098 - val_loss: 1.4253 - val_accuracy: 0.6115\n",
            "Epoch 3/3\n",
            "1098/1098 [==============================] - 3s 3ms/step - loss: 1.4216 - accuracy: 0.6098 - val_loss: 1.4123 - val_accuracy: 0.6115\n",
            "\n",
            "Accuracy: 61.15%\n",
            "\n",
            "learning rate: 1.2e-06\n",
            "num_dense_layers: 10\n",
            "num_dense_nodes: 8\n",
            "activation: sigmoid\n",
            "\n",
            "Epoch 1/3\n",
            "   2/1098 [..............................] - ETA: 37s - loss: 2.7187 - accuracy: 0.0000e+00WARNING:tensorflow:Callbacks method `on_train_batch_end` is slow compared to the batch time (batch time: 0.0050s vs `on_train_batch_end` time: 0.0630s). Check your callbacks.\n",
            "1098/1098 [==============================] - 4s 4ms/step - loss: 2.7140 - accuracy: 0.0058 - val_loss: 2.7095 - val_accuracy: 0.0056\n",
            "Epoch 2/3\n",
            "1098/1098 [==============================] - 4s 3ms/step - loss: 2.7036 - accuracy: 0.0058 - val_loss: 2.6991 - val_accuracy: 0.0056\n",
            "Epoch 3/3\n",
            "1098/1098 [==============================] - 4s 3ms/step - loss: 2.6934 - accuracy: 0.0058 - val_loss: 2.6889 - val_accuracy: 0.0056\n",
            "\n",
            "Accuracy: 0.56%\n",
            "\n",
            "learning rate: 1.1e-06\n",
            "num_dense_layers: 3\n",
            "num_dense_nodes: 6\n",
            "activation: sigmoid\n",
            "\n",
            "Epoch 1/3\n",
            "   2/1098 [..............................] - ETA: 28s - loss: 2.8255 - accuracy: 0.0273WARNING:tensorflow:Callbacks method `on_train_batch_end` is slow compared to the batch time (batch time: 0.0034s vs `on_train_batch_end` time: 0.0487s). Check your callbacks.\n",
            "1098/1098 [==============================] - 3s 3ms/step - loss: 2.8075 - accuracy: 0.0468 - val_loss: 2.8027 - val_accuracy: 0.0468\n",
            "Epoch 2/3\n",
            "1098/1098 [==============================] - 3s 3ms/step - loss: 2.7990 - accuracy: 0.0468 - val_loss: 2.7943 - val_accuracy: 0.0468\n",
            "Epoch 3/3\n",
            "1098/1098 [==============================] - 3s 3ms/step - loss: 2.7905 - accuracy: 0.0468 - val_loss: 2.7858 - val_accuracy: 0.0468\n",
            "\n",
            "Accuracy: 4.68%\n",
            "\n",
            "learning rate: 1.8e-03\n",
            "num_dense_layers: 10\n",
            "num_dense_nodes: 308\n",
            "activation: sigmoid\n",
            "\n",
            "Epoch 1/3\n",
            "   2/1098 [..............................] - ETA: 39s - loss: 2.1257 - accuracy: 0.3281WARNING:tensorflow:Callbacks method `on_train_batch_end` is slow compared to the batch time (batch time: 0.0055s vs `on_train_batch_end` time: 0.0659s). Check your callbacks.\n",
            "1098/1098 [==============================] - 4s 4ms/step - loss: 1.4165 - accuracy: 0.6093 - val_loss: 1.4064 - val_accuracy: 0.6115\n",
            "Epoch 2/3\n",
            "1098/1098 [==============================] - 4s 3ms/step - loss: 1.4083 - accuracy: 0.6098 - val_loss: 1.4008 - val_accuracy: 0.6115\n",
            "Epoch 3/3\n",
            "1098/1098 [==============================] - 4s 3ms/step - loss: 1.4064 - accuracy: 0.6098 - val_loss: 1.4042 - val_accuracy: 0.6115\n",
            "\n",
            "Accuracy: 61.15%\n",
            "\n",
            "learning rate: 1.0e-01\n",
            "num_dense_layers: 1\n",
            "num_dense_nodes: 392\n",
            "activation: relu\n",
            "\n",
            "Epoch 1/3\n",
            "   1/1098 [..............................] - ETA: 0s - loss: 2.5034 - accuracy: 0.0625WARNING:tensorflow:Callbacks method `on_train_batch_end` is slow compared to the batch time (batch time: 0.0026s vs `on_train_batch_end` time: 0.0390s). Check your callbacks.\n",
            "1098/1098 [==============================] - 3s 3ms/step - loss: 0.6875 - accuracy: 0.7923 - val_loss: 0.5959 - val_accuracy: 0.8179\n",
            "Epoch 2/3\n",
            "1098/1098 [==============================] - 3s 2ms/step - loss: 0.6117 - accuracy: 0.8078 - val_loss: 0.5810 - val_accuracy: 0.8159\n",
            "Epoch 3/3\n",
            "1098/1098 [==============================] - 3s 2ms/step - loss: 0.6605 - accuracy: 0.8055 - val_loss: 0.5883 - val_accuracy: 0.8117\n",
            "\n",
            "Accuracy: 81.17%\n",
            "\n",
            "learning rate: 1.5e-05\n",
            "num_dense_layers: 1\n",
            "num_dense_nodes: 369\n",
            "activation: relu\n",
            "\n",
            "Epoch 1/3\n",
            "   1/1098 [..............................] - ETA: 0s - loss: 2.4360 - accuracy: 0.1172WARNING:tensorflow:Callbacks method `on_train_batch_end` is slow compared to the batch time (batch time: 0.0031s vs `on_train_batch_end` time: 0.0329s). Check your callbacks.\n",
            "1098/1098 [==============================] - 3s 3ms/step - loss: 2.0913 - accuracy: 0.5969 - val_loss: 1.8091 - val_accuracy: 0.6950\n",
            "Epoch 2/3\n",
            "1098/1098 [==============================] - 3s 2ms/step - loss: 1.5802 - accuracy: 0.6974 - val_loss: 1.3729 - val_accuracy: 0.7118\n",
            "Epoch 3/3\n",
            "1098/1098 [==============================] - 3s 2ms/step - loss: 1.2301 - accuracy: 0.7142 - val_loss: 1.1159 - val_accuracy: 0.7255\n",
            "\n",
            "Accuracy: 72.55%\n",
            "\n",
            "learning rate: 4.6e-03\n",
            "num_dense_layers: 1\n",
            "num_dense_nodes: 174\n",
            "activation: sigmoid\n",
            "\n",
            "Epoch 1/3\n",
            "   1/1098 [..............................] - ETA: 0s - loss: 2.3162 - accuracy: 0.0391WARNING:tensorflow:Callbacks method `on_train_batch_end` is slow compared to the batch time (batch time: 0.0046s vs `on_train_batch_end` time: 0.0368s). Check your callbacks.\n",
            "1098/1098 [==============================] - 3s 3ms/step - loss: 0.7600 - accuracy: 0.7615 - val_loss: 0.6583 - val_accuracy: 0.7896\n",
            "Epoch 2/3\n",
            "1098/1098 [==============================] - 3s 2ms/step - loss: 0.6218 - accuracy: 0.8011 - val_loss: 0.5759 - val_accuracy: 0.8174\n",
            "Epoch 3/3\n",
            "1098/1098 [==============================] - 3s 2ms/step - loss: 0.5565 - accuracy: 0.8190 - val_loss: 0.5285 - val_accuracy: 0.8268\n",
            "\n",
            "Accuracy: 82.68%\n",
            "\n",
            "learning rate: 1.0e-01\n",
            "num_dense_layers: 10\n",
            "num_dense_nodes: 361\n",
            "activation: relu\n",
            "\n",
            "Epoch 1/3\n",
            "   2/1098 [..............................] - ETA: 36s - loss: 1981681408.0000 - accuracy: 0.3789WARNING:tensorflow:Callbacks method `on_train_batch_end` is slow compared to the batch time (batch time: 0.0046s vs `on_train_batch_end` time: 0.0613s). Check your callbacks.\n",
            "1098/1098 [==============================] - 4s 4ms/step - loss: 3611437.0000 - accuracy: 0.5970 - val_loss: 1.4008 - val_accuracy: 0.6115\n",
            "Epoch 2/3\n",
            "1098/1098 [==============================] - 4s 3ms/step - loss: 1.4065 - accuracy: 0.6098 - val_loss: 1.4019 - val_accuracy: 0.6115\n",
            "Epoch 3/3\n",
            "1098/1098 [==============================] - 4s 3ms/step - loss: 1.4074 - accuracy: 0.6098 - val_loss: 1.4090 - val_accuracy: 0.6115\n",
            "\n",
            "Accuracy: 61.15%\n",
            "\n",
            "learning rate: 4.5e-03\n",
            "num_dense_layers: 1\n",
            "num_dense_nodes: 391\n",
            "activation: relu\n",
            "\n",
            "Epoch 1/3\n",
            "   1/1098 [..............................] - ETA: 0s - loss: 2.4368 - accuracy: 0.1719WARNING:tensorflow:Callbacks method `on_train_batch_end` is slow compared to the batch time (batch time: 0.0048s vs `on_train_batch_end` time: 0.0403s). Check your callbacks.\n",
            "1098/1098 [==============================] - 3s 3ms/step - loss: 0.5725 - accuracy: 0.8161 - val_loss: 0.4777 - val_accuracy: 0.8412\n",
            "Epoch 2/3\n",
            "1098/1098 [==============================] - 3s 2ms/step - loss: 0.4508 - accuracy: 0.8498 - val_loss: 0.4280 - val_accuracy: 0.8624\n",
            "Epoch 3/3\n",
            "1098/1098 [==============================] - 3s 2ms/step - loss: 0.4159 - accuracy: 0.8615 - val_loss: 0.4074 - val_accuracy: 0.8647\n",
            "\n",
            "Accuracy: 86.47%\n",
            "\n",
            "learning rate: 2.1e-03\n",
            "num_dense_layers: 5\n",
            "num_dense_nodes: 383\n",
            "activation: sigmoid\n",
            "\n",
            "Epoch 1/3\n",
            "   2/1098 [..............................] - ETA: 28s - loss: 2.0223 - accuracy: 0.2891   WARNING:tensorflow:Callbacks method `on_train_batch_end` is slow compared to the batch time (batch time: 0.0039s vs `on_train_batch_end` time: 0.0467s). Check your callbacks.\n",
            "1098/1098 [==============================] - 3s 3ms/step - loss: 0.8681 - accuracy: 0.7265 - val_loss: 0.7303 - val_accuracy: 0.7684\n",
            "Epoch 2/3\n",
            "1098/1098 [==============================] - 3s 3ms/step - loss: 0.6693 - accuracy: 0.7800 - val_loss: 0.6042 - val_accuracy: 0.8040\n",
            "Epoch 3/3\n",
            "1098/1098 [==============================] - 3s 3ms/step - loss: 0.5676 - accuracy: 0.8149 - val_loss: 0.5317 - val_accuracy: 0.8280\n",
            "\n",
            "Accuracy: 82.80%\n",
            "\n",
            "learning rate: 3.1e-04\n",
            "num_dense_layers: 1\n",
            "num_dense_nodes: 164\n",
            "activation: relu\n",
            "\n",
            "Epoch 1/3\n",
            "   1/1098 [..............................] - ETA: 0s - loss: 2.5686 - accuracy: 0.1484WARNING:tensorflow:Callbacks method `on_train_batch_end` is slow compared to the batch time (batch time: 0.0044s vs `on_train_batch_end` time: 0.0365s). Check your callbacks.\n",
            "1098/1098 [==============================] - 3s 3ms/step - loss: 1.0205 - accuracy: 0.7265 - val_loss: 0.7262 - val_accuracy: 0.7708\n",
            "Epoch 2/3\n",
            "1098/1098 [==============================] - 3s 2ms/step - loss: 0.6843 - accuracy: 0.7826 - val_loss: 0.6462 - val_accuracy: 0.7977\n",
            "Epoch 3/3\n",
            "1098/1098 [==============================] - 3s 2ms/step - loss: 0.6273 - accuracy: 0.7992 - val_loss: 0.6055 - val_accuracy: 0.8043\n",
            "\n",
            "Accuracy: 80.43%\n",
            "\n",
            "learning rate: 5.6e-03\n",
            "num_dense_layers: 1\n",
            "num_dense_nodes: 374\n",
            "activation: relu\n",
            "\n",
            "Epoch 1/3\n",
            "   1/1098 [..............................] - ETA: 0s - loss: 2.5465 - accuracy: 0.0234WARNING:tensorflow:Callbacks method `on_train_batch_end` is slow compared to the batch time (batch time: 0.0031s vs `on_train_batch_end` time: 0.0338s). Check your callbacks.\n",
            "1098/1098 [==============================] - 3s 3ms/step - loss: 0.5636 - accuracy: 0.8178 - val_loss: 0.4729 - val_accuracy: 0.8444\n",
            "Epoch 2/3\n",
            "1098/1098 [==============================] - 3s 2ms/step - loss: 0.4470 - accuracy: 0.8514 - val_loss: 0.4205 - val_accuracy: 0.8622\n",
            "Epoch 3/3\n",
            "1098/1098 [==============================] - 3s 2ms/step - loss: 0.4133 - accuracy: 0.8620 - val_loss: 0.3843 - val_accuracy: 0.8713\n",
            "\n",
            "Accuracy: 87.13%\n",
            "\n",
            "learning rate: 1.5e-02\n",
            "num_dense_layers: 1\n",
            "num_dense_nodes: 390\n",
            "activation: relu\n",
            "\n",
            "Epoch 1/3\n",
            "   1/1098 [..............................] - ETA: 0s - loss: 2.3971 - accuracy: 0.3672WARNING:tensorflow:Callbacks method `on_train_batch_end` is slow compared to the batch time (batch time: 0.0028s vs `on_train_batch_end` time: 0.0348s). Check your callbacks.\n",
            "1098/1098 [==============================] - 3s 3ms/step - loss: 0.5486 - accuracy: 0.8218 - val_loss: 0.4761 - val_accuracy: 0.8472\n",
            "Epoch 2/3\n",
            "1098/1098 [==============================] - 3s 2ms/step - loss: 0.4568 - accuracy: 0.8495 - val_loss: 0.4330 - val_accuracy: 0.8597\n",
            "Epoch 3/3\n",
            "1098/1098 [==============================] - 3s 2ms/step - loss: 0.4263 - accuracy: 0.8595 - val_loss: 0.4313 - val_accuracy: 0.8596\n",
            "\n",
            "Accuracy: 85.96%\n",
            "\n",
            "learning rate: 2.0e-03\n",
            "num_dense_layers: 5\n",
            "num_dense_nodes: 387\n",
            "activation: relu\n",
            "\n",
            "Epoch 1/3\n",
            "   2/1098 [..............................] - ETA: 28s - loss: 2.3461 - accuracy: 0.3281WARNING:tensorflow:Callbacks method `on_train_batch_end` is slow compared to the batch time (batch time: 0.0038s vs `on_train_batch_end` time: 0.0482s). Check your callbacks.\n",
            "1098/1098 [==============================] - 3s 3ms/step - loss: 0.4980 - accuracy: 0.8370 - val_loss: 0.3782 - val_accuracy: 0.8698\n",
            "Epoch 2/3\n",
            "1098/1098 [==============================] - 3s 3ms/step - loss: 0.3555 - accuracy: 0.8783 - val_loss: 0.3467 - val_accuracy: 0.8754\n",
            "Epoch 3/3\n",
            "1098/1098 [==============================] - 3s 3ms/step - loss: 0.3104 - accuracy: 0.8909 - val_loss: 0.3124 - val_accuracy: 0.8925\n",
            "\n",
            "Accuracy: 89.25%\n",
            "\n",
            "learning rate: 1.5e-02\n",
            "num_dense_layers: 1\n",
            "num_dense_nodes: 121\n",
            "activation: sigmoid\n",
            "\n",
            "Epoch 1/3\n",
            "   1/1098 [..............................] - ETA: 0s - loss: 2.6276 - accuracy: 0.0000e+00WARNING:tensorflow:Callbacks method `on_train_batch_end` is slow compared to the batch time (batch time: 0.0037s vs `on_train_batch_end` time: 0.0349s). Check your callbacks.\n",
            "1098/1098 [==============================] - 3s 3ms/step - loss: 0.6652 - accuracy: 0.7892 - val_loss: 0.5307 - val_accuracy: 0.8280\n",
            "Epoch 2/3\n",
            "1098/1098 [==============================] - 3s 2ms/step - loss: 0.5021 - accuracy: 0.8359 - val_loss: 0.4767 - val_accuracy: 0.8448\n",
            "Epoch 3/3\n",
            "1098/1098 [==============================] - 3s 2ms/step - loss: 0.4520 - accuracy: 0.8510 - val_loss: 0.4267 - val_accuracy: 0.8608\n",
            "\n",
            "Accuracy: 86.08%\n",
            "\n",
            "learning rate: 2.5e-04\n",
            "num_dense_layers: 10\n",
            "num_dense_nodes: 401\n",
            "activation: relu\n",
            "\n",
            "Epoch 1/3\n",
            "   2/1098 [..............................] - ETA: 35s - loss: 2.4768 - accuracy: 0.3125   WARNING:tensorflow:Callbacks method `on_train_batch_end` is slow compared to the batch time (batch time: 0.0058s vs `on_train_batch_end` time: 0.0577s). Check your callbacks.\n",
            "1098/1098 [==============================] - 4s 4ms/step - loss: 0.5770 - accuracy: 0.8190 - val_loss: 0.4088 - val_accuracy: 0.8643\n",
            "Epoch 2/3\n",
            "1098/1098 [==============================] - 4s 3ms/step - loss: 0.3846 - accuracy: 0.8711 - val_loss: 0.3943 - val_accuracy: 0.8705\n",
            "Epoch 3/3\n",
            "1098/1098 [==============================] - 4s 3ms/step - loss: 0.3357 - accuracy: 0.8860 - val_loss: 0.3214 - val_accuracy: 0.8884\n",
            "\n",
            "Accuracy: 88.84%\n",
            "\n",
            "learning rate: 1.0e-06\n",
            "num_dense_layers: 10\n",
            "num_dense_nodes: 330\n",
            "activation: relu\n",
            "\n",
            "Epoch 1/3\n",
            "   2/1098 [..............................] - ETA: 41s - loss: 2.4856 - accuracy: 0.0898WARNING:tensorflow:Callbacks method `on_train_batch_end` is slow compared to the batch time (batch time: 0.0055s vs `on_train_batch_end` time: 0.0693s). Check your callbacks.\n",
            "1098/1098 [==============================] - 4s 4ms/step - loss: 2.4024 - accuracy: 0.5621 - val_loss: 2.2076 - val_accuracy: 0.6115\n",
            "Epoch 2/3\n",
            "1098/1098 [==============================] - 4s 3ms/step - loss: 1.8097 - accuracy: 0.6098 - val_loss: 1.4594 - val_accuracy: 0.6115\n",
            "Epoch 3/3\n",
            "1098/1098 [==============================] - 4s 3ms/step - loss: 1.2947 - accuracy: 0.6342 - val_loss: 1.1897 - val_accuracy: 0.6544\n",
            "\n",
            "Accuracy: 65.44%\n",
            "\n",
            "learning rate: 1.0e-03\n",
            "num_dense_layers: 8\n",
            "num_dense_nodes: 411\n",
            "activation: relu\n",
            "\n",
            "Epoch 1/3\n",
            "   2/1098 [..............................] - ETA: 36s - loss: 2.4410 - accuracy: 0.3008   WARNING:tensorflow:Callbacks method `on_train_batch_end` is slow compared to the batch time (batch time: 0.0052s vs `on_train_batch_end` time: 0.0603s). Check your callbacks.\n",
            "1098/1098 [==============================] - 4s 3ms/step - loss: 0.5301 - accuracy: 0.8302 - val_loss: 0.4062 - val_accuracy: 0.8655\n",
            "Epoch 2/3\n",
            "1098/1098 [==============================] - 4s 3ms/step - loss: 0.3726 - accuracy: 0.8754 - val_loss: 0.3532 - val_accuracy: 0.8834\n",
            "Epoch 3/3\n",
            "1098/1098 [==============================] - 3s 3ms/step - loss: 0.3271 - accuracy: 0.8894 - val_loss: 0.3209 - val_accuracy: 0.8898\n",
            "\n",
            "Accuracy: 88.98%\n",
            "\n",
            "learning rate: 1.0e-01\n",
            "num_dense_layers: 1\n",
            "num_dense_nodes: 157\n",
            "activation: relu\n",
            "\n",
            "Epoch 1/3\n",
            "   1/1098 [..............................] - ETA: 0s - loss: 2.6179 - accuracy: 0.0156WARNING:tensorflow:Callbacks method `on_train_batch_end` is slow compared to the batch time (batch time: 0.0036s vs `on_train_batch_end` time: 0.0383s). Check your callbacks.\n",
            "1098/1098 [==============================] - 3s 3ms/step - loss: 0.6681 - accuracy: 0.7915 - val_loss: 0.6324 - val_accuracy: 0.7834\n",
            "Epoch 2/3\n",
            "1098/1098 [==============================] - 3s 2ms/step - loss: 0.6167 - accuracy: 0.8035 - val_loss: 0.5916 - val_accuracy: 0.8137\n",
            "Epoch 3/3\n",
            "1098/1098 [==============================] - 3s 2ms/step - loss: 0.6202 - accuracy: 0.8052 - val_loss: 0.6178 - val_accuracy: 0.8064\n",
            "\n",
            "Accuracy: 80.64%\n",
            "\n",
            "learning rate: 6.7e-04\n",
            "num_dense_layers: 8\n",
            "num_dense_nodes: 391\n",
            "activation: relu\n",
            "\n",
            "Epoch 1/3\n",
            "   2/1098 [..............................] - ETA: 34s - loss: 2.4718 - accuracy: 0.3359WARNING:tensorflow:Callbacks method `on_train_batch_end` is slow compared to the batch time (batch time: 0.0059s vs `on_train_batch_end` time: 0.0564s). Check your callbacks.\n",
            "1098/1098 [==============================] - 4s 3ms/step - loss: 0.5352 - accuracy: 0.8287 - val_loss: 0.3970 - val_accuracy: 0.8652\n",
            "Epoch 2/3\n",
            "1098/1098 [==============================] - 3s 3ms/step - loss: 0.3677 - accuracy: 0.8758 - val_loss: 0.3278 - val_accuracy: 0.8886\n",
            "Epoch 3/3\n",
            "1098/1098 [==============================] - 3s 3ms/step - loss: 0.3181 - accuracy: 0.8905 - val_loss: 0.3129 - val_accuracy: 0.8935\n",
            "\n",
            "Accuracy: 89.35%\n",
            "\n",
            "learning rate: 3.0e-03\n",
            "num_dense_layers: 1\n",
            "num_dense_nodes: 287\n",
            "activation: relu\n",
            "\n",
            "Epoch 1/3\n",
            "   1/1098 [..............................] - ETA: 0s - loss: 2.5138 - accuracy: 0.0938WARNING:tensorflow:Callbacks method `on_train_batch_end` is slow compared to the batch time (batch time: 0.0028s vs `on_train_batch_end` time: 0.0366s). Check your callbacks.\n",
            "1098/1098 [==============================] - 3s 3ms/step - loss: 0.6137 - accuracy: 0.8045 - val_loss: 0.5012 - val_accuracy: 0.8327\n",
            "Epoch 2/3\n",
            "1098/1098 [==============================] - 3s 2ms/step - loss: 0.4744 - accuracy: 0.8429 - val_loss: 0.4465 - val_accuracy: 0.8536\n",
            "Epoch 3/3\n",
            "1098/1098 [==============================] - 3s 2ms/step - loss: 0.4375 - accuracy: 0.8548 - val_loss: 0.4154 - val_accuracy: 0.8637\n",
            "\n",
            "Accuracy: 86.37%\n",
            "\n",
            "learning rate: 1.0e-01\n",
            "num_dense_layers: 1\n",
            "num_dense_nodes: 289\n",
            "activation: relu\n",
            "\n",
            "Epoch 1/3\n",
            "   1/1098 [..............................] - ETA: 0s - loss: 2.4404 - accuracy: 0.0859WARNING:tensorflow:Callbacks method `on_train_batch_end` is slow compared to the batch time (batch time: 0.0029s vs `on_train_batch_end` time: 0.0361s). Check your callbacks.\n",
            "1098/1098 [==============================] - 3s 3ms/step - loss: 0.6670 - accuracy: 0.7934 - val_loss: 0.6023 - val_accuracy: 0.8102\n",
            "Epoch 2/3\n",
            "1098/1098 [==============================] - 3s 2ms/step - loss: 0.6119 - accuracy: 0.8081 - val_loss: 0.5660 - val_accuracy: 0.8098\n",
            "Epoch 3/3\n",
            "1098/1098 [==============================] - 3s 2ms/step - loss: 0.6081 - accuracy: 0.8083 - val_loss: 0.6466 - val_accuracy: 0.8009\n",
            "\n",
            "Accuracy: 80.09%\n",
            "\n",
            "learning rate: 1.3e-05\n",
            "num_dense_layers: 1\n",
            "num_dense_nodes: 240\n",
            "activation: sigmoid\n",
            "\n",
            "Epoch 1/3\n",
            "   1/1098 [..............................] - ETA: 0s - loss: 2.9201 - accuracy: 0.0000e+00WARNING:tensorflow:Callbacks method `on_train_batch_end` is slow compared to the batch time (batch time: 0.0087s vs `on_train_batch_end` time: 0.0338s). Check your callbacks.\n",
            "1098/1098 [==============================] - 3s 3ms/step - loss: 2.0920 - accuracy: 0.3374 - val_loss: 1.5581 - val_accuracy: 0.6115\n",
            "Epoch 2/3\n",
            "1098/1098 [==============================] - 3s 2ms/step - loss: 1.4024 - accuracy: 0.6163 - val_loss: 1.3033 - val_accuracy: 0.6330\n",
            "Epoch 3/3\n",
            "1098/1098 [==============================] - 3s 2ms/step - loss: 1.2598 - accuracy: 0.6320 - val_loss: 1.2158 - val_accuracy: 0.6347\n",
            "\n",
            "Accuracy: 63.47%\n",
            "\n",
            "learning rate: 8.5e-04\n",
            "num_dense_layers: 7\n",
            "num_dense_nodes: 167\n",
            "activation: relu\n",
            "\n",
            "Epoch 1/3\n",
            "   2/1098 [..............................] - ETA: 31s - loss: 2.4816 - accuracy: 0.2500WARNING:tensorflow:Callbacks method `on_train_batch_end` is slow compared to the batch time (batch time: 0.0041s vs `on_train_batch_end` time: 0.0534s). Check your callbacks.\n",
            "1098/1098 [==============================] - 4s 3ms/step - loss: 0.5656 - accuracy: 0.8211 - val_loss: 0.4164 - val_accuracy: 0.8605\n",
            "Epoch 2/3\n",
            "1098/1098 [==============================] - 3s 3ms/step - loss: 0.3892 - accuracy: 0.8693 - val_loss: 0.3692 - val_accuracy: 0.8776\n",
            "Epoch 3/3\n",
            "1098/1098 [==============================] - 3s 3ms/step - loss: 0.3404 - accuracy: 0.8830 - val_loss: 0.3348 - val_accuracy: 0.8836\n",
            "\n",
            "Accuracy: 88.36%\n",
            "\n",
            "learning rate: 3.1e-03\n",
            "num_dense_layers: 5\n",
            "num_dense_nodes: 150\n",
            "activation: relu\n",
            "\n",
            "Epoch 1/3\n",
            "   2/1098 [..............................] - ETA: 29s - loss: 2.3945 - accuracy: 0.3008WARNING:tensorflow:Callbacks method `on_train_batch_end` is slow compared to the batch time (batch time: 0.0046s vs `on_train_batch_end` time: 0.0489s). Check your callbacks.\n",
            "1098/1098 [==============================] - 3s 3ms/step - loss: 0.5064 - accuracy: 0.8351 - val_loss: 0.3740 - val_accuracy: 0.8697\n",
            "Epoch 2/3\n",
            "1098/1098 [==============================] - 4s 3ms/step - loss: 0.3629 - accuracy: 0.8754 - val_loss: 0.3286 - val_accuracy: 0.8853\n",
            "Epoch 3/3\n",
            "1098/1098 [==============================] - 4s 3ms/step - loss: 0.3258 - accuracy: 0.8869 - val_loss: 0.3078 - val_accuracy: 0.8924\n",
            "\n",
            "Accuracy: 89.24%\n",
            "\n",
            "learning rate: 3.1e-03\n",
            "num_dense_layers: 5\n",
            "num_dense_nodes: 149\n",
            "activation: sigmoid\n",
            "\n",
            "Epoch 1/3\n",
            "   2/1098 [..............................] - ETA: 33s - loss: 2.1277 - accuracy: 0.2812   WARNING:tensorflow:Callbacks method `on_train_batch_end` is slow compared to the batch time (batch time: 0.0069s vs `on_train_batch_end` time: 0.0529s). Check your callbacks.\n",
            "1098/1098 [==============================] - 4s 3ms/step - loss: 0.8562 - accuracy: 0.7306 - val_loss: 0.7004 - val_accuracy: 0.7805\n",
            "Epoch 2/3\n",
            "1098/1098 [==============================] - 3s 3ms/step - loss: 0.6577 - accuracy: 0.7883 - val_loss: 0.6080 - val_accuracy: 0.8027\n",
            "Epoch 3/3\n",
            "1098/1098 [==============================] - 3s 3ms/step - loss: 0.5824 - accuracy: 0.8110 - val_loss: 0.5550 - val_accuracy: 0.8232\n",
            "\n",
            "Accuracy: 82.32%\n",
            "\n",
            "learning rate: 1.5e-03\n",
            "num_dense_layers: 5\n",
            "num_dense_nodes: 194\n",
            "activation: relu\n",
            "\n",
            "Epoch 1/3\n",
            "   2/1098 [..............................] - ETA: 28s - loss: 2.4037 - accuracy: 0.3125WARNING:tensorflow:Callbacks method `on_train_batch_end` is slow compared to the batch time (batch time: 0.0038s vs `on_train_batch_end` time: 0.0475s). Check your callbacks.\n",
            "1098/1098 [==============================] - 3s 3ms/step - loss: 0.5200 - accuracy: 0.8313 - val_loss: 0.4028 - val_accuracy: 0.8667\n",
            "Epoch 2/3\n",
            "1098/1098 [==============================] - 3s 3ms/step - loss: 0.3635 - accuracy: 0.8756 - val_loss: 0.3494 - val_accuracy: 0.8802\n",
            "Epoch 3/3\n",
            "1098/1098 [==============================] - 3s 3ms/step - loss: 0.3203 - accuracy: 0.8879 - val_loss: 0.3030 - val_accuracy: 0.8966\n",
            "\n",
            "Accuracy: 89.66%\n",
            "\n",
            "learning rate: 1.6e-03\n",
            "num_dense_layers: 5\n",
            "num_dense_nodes: 325\n",
            "activation: relu\n",
            "\n",
            "Epoch 1/3\n",
            "   2/1098 [..............................] - ETA: 30s - loss: 2.4322 - accuracy: 0.3164WARNING:tensorflow:Callbacks method `on_train_batch_end` is slow compared to the batch time (batch time: 0.0048s vs `on_train_batch_end` time: 0.0500s). Check your callbacks.\n",
            "1098/1098 [==============================] - 3s 3ms/step - loss: 0.5024 - accuracy: 0.8359 - val_loss: 0.3733 - val_accuracy: 0.8731\n",
            "Epoch 2/3\n",
            "1098/1098 [==============================] - 3s 3ms/step - loss: 0.3544 - accuracy: 0.8783 - val_loss: 0.3452 - val_accuracy: 0.8799\n",
            "Epoch 3/3\n",
            "1098/1098 [==============================] - 3s 3ms/step - loss: 0.3104 - accuracy: 0.8911 - val_loss: 0.2941 - val_accuracy: 0.8952\n",
            "\n",
            "Accuracy: 89.52%\n",
            "\n",
            "learning rate: 1.7e-02\n",
            "num_dense_layers: 1\n",
            "num_dense_nodes: 381\n",
            "activation: sigmoid\n",
            "\n",
            "Epoch 1/3\n",
            "   1/1098 [..............................] - ETA: 0s - loss: 1.7906 - accuracy: 0.6797WARNING:tensorflow:Callbacks method `on_train_batch_end` is slow compared to the batch time (batch time: 0.0026s vs `on_train_batch_end` time: 0.0365s). Check your callbacks.\n",
            "1098/1098 [==============================] - 3s 3ms/step - loss: 0.6744 - accuracy: 0.7874 - val_loss: 0.5244 - val_accuracy: 0.8259\n",
            "Epoch 2/3\n",
            "1098/1098 [==============================] - 3s 2ms/step - loss: 0.4982 - accuracy: 0.8366 - val_loss: 0.4601 - val_accuracy: 0.8511\n",
            "Epoch 3/3\n",
            "1098/1098 [==============================] - 3s 2ms/step - loss: 0.4429 - accuracy: 0.8536 - val_loss: 0.4249 - val_accuracy: 0.8548\n",
            "\n",
            "Accuracy: 85.48%\n",
            "\n",
            "CPU times: user 9min 16s, sys: 1min 59s, total: 11min 16s\n",
            "Wall time: 6min 52s\n"
          ],
          "name": "stdout"
        }
      ]
    },
    {
      "cell_type": "code",
      "metadata": {
        "id": "ITCBSrnv7gvv",
        "colab": {
          "base_uri": "https://localhost:8080/",
          "height": 297
        },
        "outputId": "6c366608-7ad8-4a79-c0ed-ad6ea6660c75"
      },
      "source": [
        "plot_convergence(search_result) \n",
        "plt.savefig(\"Converge.png\", dpi=400)"
      ],
      "execution_count": null,
      "outputs": [
        {
          "output_type": "display_data",
          "data": {
            "image/png": "[encoded data removed]",
            "text/plain": [
              "<Figure size 432x288 with 1 Axes>"
            ]
          },
          "metadata": {
            "tags": [],
            "needs_background": "light"
          }
        }
      ]
    },
    {
      "cell_type": "code",
      "metadata": {
        "id": "3L18AYsC9tLX",
        "colab": {
          "base_uri": "https://localhost:8080/",
          "height": 35
        },
        "outputId": "8e13123f-43aa-4d6c-cbe5-08befa0a40bd"
      },
      "source": [
        "search_result.x"
      ],
      "execution_count": null,
      "outputs": [
        {
          "output_type": "execute_result",
          "data": {
            "text/plain": [
              "[0.0015296177885123542, 5, 194, 'relu']"
            ]
          },
          "metadata": {
            "tags": []
          },
          "execution_count": 137
        }
      ]
    },
    {
      "cell_type": "code",
      "metadata": {
        "id": "VWjZghjB9v6G",
        "colab": {
          "base_uri": "https://localhost:8080/",
          "height": 35
        },
        "outputId": "6a1dd038-1dbc-44c9-d9b3-21c3cfc65ea8"
      },
      "source": [
        "# The best fitness value associated with these hyper-parameters\n",
        "search_result.fun"
      ],
      "execution_count": null,
      "outputs": [
        {
          "output_type": "execute_result",
          "data": {
            "text/plain": [
              "-0.8966204524040222"
            ]
          },
          "metadata": {
            "tags": []
          },
          "execution_count": 138
        }
      ]
    },
    {
      "cell_type": "code",
      "metadata": {
        "id": "Hn3iybKS90yf",
        "colab": {
          "base_uri": "https://localhost:8080/",
          "height": 745
        },
        "outputId": "56dd950c-3402-4bb2-f696-c397b8c08564"
      },
      "source": [
        "sorted(zip(search_result.func_vals, search_result.x_iters))"
      ],
      "execution_count": null,
      "outputs": [
        {
          "output_type": "execute_result",
          "data": {
            "text/plain": [
              "[(-0.8966204524040222, [0.0015296177885123542, 5, 194, 'relu']),\n",
              " (-0.8952253460884094, [0.0016106736378413663, 5, 325, 'relu']),\n",
              " (-0.8934601545333862, [0.0006690132166990642, 8, 391, 'relu']),\n",
              " (-0.8924636244773865, [0.002009605822576807, 5, 387, 'relu']),\n",
              " (-0.892406702041626, [0.0030783882096453883, 5, 150, 'relu']),\n",
              " (-0.8898158073425293, [0.0010446835599764019, 8, 411, 'relu']),\n",
              " (-0.888363778591156, [0.0002473291363623178, 10, 401, 'relu']),\n",
              " (-0.883552074432373, [0.0008529831470230432, 7, 167, 'relu']),\n",
              " (-0.8780001997947693, [0.012448603980610241, 3, 370, 'relu']),\n",
              " (-0.874896764755249, [0.00597223302512055, 7, 380, 'relu']),\n",
              " (-0.8712524771690369, [0.005574615603223616, 1, 374, 'relu']),\n",
              " (-0.8647040128707886, [0.004460658721352783, 1, 391, 'relu']),\n",
              " (-0.8637360334396362, [0.0030155068985882973, 1, 287, 'relu']),\n",
              " (-0.860803484916687, [0.015455740551878507, 1, 121, 'sigmoid']),\n",
              " (-0.859636127948761, [0.015091982358330576, 1, 390, 'relu']),\n",
              " (-0.8548244833946228, [0.01735884458331523, 1, 381, 'sigmoid']),\n",
              " (-0.8280044198036194, [0.0020906882305846333, 5, 383, 'sigmoid']),\n",
              " (-0.8268086314201355, [0.004563597442826519, 1, 174, 'sigmoid']),\n",
              " (-0.8231642842292786, [0.003079895948369295, 5, 149, 'sigmoid']),\n",
              " (-0.8116903305053711, [0.1, 1, 392, 'relu']),\n",
              " (-0.8064231276512146, [0.1, 1, 157, 'relu']),\n",
              " (-0.8043447136878967, [0.00031499380667496116, 1, 164, 'relu']),\n",
              " (-0.8008712530136108, [0.1, 1, 289, 'relu']),\n",
              " (-0.7432736158370972, [0.0002536292301045314, 5, 100, 'sigmoid']),\n",
              " (-0.7275859117507935, [4.778113524718894e-06, 5, 195, 'relu']),\n",
              " (-0.7255074977874756, [1.5279097183843984e-05, 1, 369, 'relu']),\n",
              " (-0.7200409770011902, [4.072518377682992e-05, 2, 426, 'sigmoid']),\n",
              " (-0.7021894454956055, [1.1776977206087155e-06, 8, 444, 'relu']),\n",
              " (-0.6716111898422241, [3.5182289633705657e-06, 4, 149, 'relu']),\n",
              " (-0.654386043548584, [1e-06, 10, 330, 'relu']),\n",
              " (-0.6346553564071655, [1.2970415324655983e-05, 1, 240, 'sigmoid']),\n",
              " (-0.6114512085914612, [6.685259029566018e-06, 9, 508, 'sigmoid']),\n",
              " (-0.6114512085914612, [0.0017860875221933118, 10, 308, 'sigmoid']),\n",
              " (-0.6114512085914612, [0.02504055442085226, 9, 487, 'relu']),\n",
              " (-0.6114512085914612, [0.08661414275637319, 9, 86, 'relu']),\n",
              " (-0.6114512085914612, [0.09523786815610905, 6, 50, 'sigmoid']),\n",
              " (-0.6114512085914612, [0.1, 10, 361, 'relu']),\n",
              " (-0.17638014256954193, [1e-05, 1, 16, 'relu']),\n",
              " (-0.04683540761470795, [1.1365394196646873e-06, 3, 6, 'sigmoid']),\n",
              " (-0.005580388940870762, [1.1860121134919529e-06, 10, 8, 'sigmoid'])]"
            ]
          },
          "metadata": {
            "tags": []
          },
          "execution_count": 139
        }
      ]
    },
    {
      "cell_type": "code",
      "metadata": {
        "id": "4ElwcSbE91w-",
        "colab": {
          "base_uri": "https://localhost:8080/",
          "height": 284
        },
        "outputId": "591b22d8-7a07-465b-86ea-6d5738c10cbe"
      },
      "source": [
        "from skopt.plots import plot_objective_2D\n",
        "fig = plot_objective_2D(result=search_result,\n",
        "                        dimension_identifier1='learning_rate',\n",
        "                        dimension_identifier2='num_dense_nodes',\n",
        "                        levels=50)\n",
        "plt.savefig(\"Lr_numnods.png\", dpi=400)"
      ],
      "execution_count": null,
      "outputs": [
        {
          "output_type": "display_data",
          "data": {
            "image/png": "[encoded data removed]",
            "text/plain": [
              "<Figure size 432x288 with 1 Axes>"
            ]
          },
          "metadata": {
            "tags": [],
            "needs_background": "light"
          }
        }
      ]
    },
    {
      "cell_type": "code",
      "metadata": {
        "id": "K9g5Dvi497g8"
      },
      "source": [
        "# create a list for plotting\n",
        "dim_names = ['learning_rate', 'num_dense_layers', 'num_dense_nodes', 'activation' ]"
      ],
      "execution_count": null,
      "outputs": []
    },
    {
      "cell_type": "code",
      "metadata": {
        "id": "8mEFKGq7-CLz",
        "colab": {
          "base_uri": "https://localhost:8080/",
          "height": 803
        },
        "outputId": "ff89e8ee-6247-4d9b-d283-fc35a7fc2c98"
      },
      "source": [
        "fig, ax = plot_objective(result=search_result, dimensions=dim_names)\n",
        "plt.savefig(\"all_dimen.png\", dpi=400)"
      ],
      "execution_count": null,
      "outputs": [
        {
          "output_type": "error",
          "ename": "ValueError",
          "evalue": "ignored",
          "traceback": [
            "\u001b[0;31m---------------------------------------------------------------------------\u001b[0m",
            "\u001b[0;31mValueError\u001b[0m                                Traceback (most recent call last)",
            "\u001b[0;32m<ipython-input-39-460a0042a52d>\u001b[0m in \u001b[0;36m<module>\u001b[0;34m()\u001b[0m\n\u001b[0;32m----> 1\u001b[0;31m \u001b[0mfig\u001b[0m\u001b[0;34m,\u001b[0m \u001b[0max\u001b[0m \u001b[0;34m=\u001b[0m \u001b[0mplot_objective\u001b[0m\u001b[0;34m(\u001b[0m\u001b[0mresult\u001b[0m\u001b[0;34m=\u001b[0m\u001b[0msearch_result\u001b[0m\u001b[0;34m,\u001b[0m \u001b[0mdimensions\u001b[0m\u001b[0;34m=\u001b[0m\u001b[0mdim_names\u001b[0m\u001b[0;34m)\u001b[0m\u001b[0;34m\u001b[0m\u001b[0;34m\u001b[0m\u001b[0m\n\u001b[0m\u001b[1;32m      2\u001b[0m \u001b[0mplt\u001b[0m\u001b[0;34m.\u001b[0m\u001b[0msavefig\u001b[0m\u001b[0;34m(\u001b[0m\u001b[0;34m\"all_dimen.png\"\u001b[0m\u001b[0;34m,\u001b[0m \u001b[0mdpi\u001b[0m\u001b[0;34m=\u001b[0m\u001b[0;36m400\u001b[0m\u001b[0;34m)\u001b[0m\u001b[0;34m\u001b[0m\u001b[0;34m\u001b[0m\u001b[0m\n",
            "\u001b[0;31mValueError\u001b[0m: too many values to unpack (expected 2)"
          ]
        },
        {
          "output_type": "display_data",
          "data": {
            "image/png": "[encoded data removed]",
            "text/plain": [
              "<Figure size 576x576 with 16 Axes>"
            ]
          },
          "metadata": {
            "tags": [],
            "needs_background": "light"
          }
        }
      ]
    },
    {
      "cell_type": "code",
      "metadata": {
        "id": "p4AvT_Vy-IUu",
        "colab": {
          "base_uri": "https://localhost:8080/",
          "height": 785
        },
        "outputId": "824696bd-b082-4ac9-d1d9-45506d69b608"
      },
      "source": [
        "fig, ax = plot_evaluations(result=search_result, dimensions=dim_names)"
      ],
      "execution_count": null,
      "outputs": [
        {
          "output_type": "error",
          "ename": "ValueError",
          "evalue": "ignored",
          "traceback": [
            "\u001b[0;31m---------------------------------------------------------------------------\u001b[0m",
            "\u001b[0;31mValueError\u001b[0m                                Traceback (most recent call last)",
            "\u001b[0;32m<ipython-input-40-ab3ea7518767>\u001b[0m in \u001b[0;36m<module>\u001b[0;34m()\u001b[0m\n\u001b[0;32m----> 1\u001b[0;31m \u001b[0mfig\u001b[0m\u001b[0;34m,\u001b[0m \u001b[0max\u001b[0m \u001b[0;34m=\u001b[0m \u001b[0mplot_evaluations\u001b[0m\u001b[0;34m(\u001b[0m\u001b[0mresult\u001b[0m\u001b[0;34m=\u001b[0m\u001b[0msearch_result\u001b[0m\u001b[0;34m,\u001b[0m \u001b[0mdimensions\u001b[0m\u001b[0;34m=\u001b[0m\u001b[0mdim_names\u001b[0m\u001b[0;34m)\u001b[0m\u001b[0;34m\u001b[0m\u001b[0;34m\u001b[0m\u001b[0m\n\u001b[0m",
            "\u001b[0;31mValueError\u001b[0m: too many values to unpack (expected 2)"
          ]
        },
        {
          "output_type": "display_data",
          "data": {
            "image/png": "[encoded data removed]",
            "text/plain": [
              "<Figure size 576x576 with 16 Axes>"
            ]
          },
          "metadata": {
            "tags": [],
            "needs_background": "light"
          }
        }
      ]
    },
    {
      "cell_type": "code",
      "metadata": {
        "id": "DsR24JPb-Osc"
      },
      "source": [
        "best_model= load_model(path_best_model)"
      ],
      "execution_count": null,
      "outputs": []
    },
    {
      "cell_type": "markdown",
      "metadata": {
        "id": "4pw9Ei-UOqyN"
      },
      "source": [
        "Load validation DATA"
      ]
    },
    {
      "cell_type": "code",
      "metadata": {
        "id": "Qx7_YtTiOv6L"
      },
      "source": [
        "blind = pd.read_csv('/content/drive/My Drive/FORCE_Facies/RESULTS/C4_complete.csv')"
      ],
      "execution_count": null,
      "outputs": []
    },
    {
      "cell_type": "code",
      "metadata": {
        "id": "RZxuGpZgfYkg",
        "colab": {
          "base_uri": "https://localhost:8080/",
          "height": 35
        },
        "outputId": "ec28aedf-80c9-4081-e7ef-b26076287dca"
      },
      "source": [
        "blind['WELL'].unique()"
      ],
      "execution_count": null,
      "outputs": [
        {
          "output_type": "execute_result",
          "data": {
            "text/plain": [
              "array(['15/9-14'], dtype=object)"
            ]
          },
          "metadata": {
            "tags": []
          },
          "execution_count": 144
        }
      ]
    },
    {
      "cell_type": "code",
      "metadata": {
        "id": "_84LA_I_Pm3s"
      },
      "source": [
        "# select predictors\n",
        "features_blind = blind[['GR','RHOB','NPHI','DTC','PEF','SP','Log_RDEP','Log_RMED']]"
      ],
      "execution_count": null,
      "outputs": []
    },
    {
      "cell_type": "code",
      "metadata": {
        "id": "C0EdD9kRPzwq"
      },
      "source": [
        "scaler = preprocessing.RobustScaler(quantile_range=(25.0, 75.0)).fit(features_blind)\n",
        "scaled_features_blind = scaler.transform(features_blind)"
      ],
      "execution_count": null,
      "outputs": []
    },
    {
      "cell_type": "code",
      "metadata": {
        "id": "lN7KFKu9P3Mu"
      },
      "source": [
        "opt_par = search_result.x"
      ],
      "execution_count": null,
      "outputs": []
    },
    {
      "cell_type": "code",
      "metadata": {
        "id": "prtDu9lCP6IN"
      },
      "source": [
        "# use hyper-parameters from optimization\n",
        "learning_rate = opt_par[0]\n",
        "num_layers = opt_par[1]\n",
        "num_nodes = opt_par[2]\n",
        "activation = opt_par[3]"
      ],
      "execution_count": null,
      "outputs": []
    },
    {
      "cell_type": "code",
      "metadata": {
        "id": "rhQn7sgDP8sX",
        "colab": {
          "base_uri": "https://localhost:8080/",
          "height": 1000
        },
        "outputId": "0ca7bb3c-b535-4cba-c54e-336a1e5c511c"
      },
      "source": [
        "# Classification neural network\n",
        "import numpy as np\n",
        "import tensorflow.keras\n",
        "from tensorflow.keras.models import Sequential\n",
        "from tensorflow.keras.layers import Dense, Activation\n",
        "from tensorflow.keras.callbacks import EarlyStopping\n",
        "\n",
        "model = Sequential()\n",
        "model.add(InputLayer(input_shape=(scaled_features.shape[1])))\n",
        "model.add(Dense(num_nodes, activation=activation, kernel_initializer='random_normal'))\n",
        "model.add(Dense(labels.shape[1], activation='softmax', kernel_initializer='random_normal'))\n",
        "\n",
        "optimizer = Adam(lr=learning_rate)\n",
        "    \n",
        "model.compile(optimizer=optimizer, loss='categorical_crossentropy',  metrics=['accuracy'])\n",
        "\n",
        "\n",
        "monitor = EarlyStopping(monitor='val_loss', min_delta=1e-3, patience=20, \n",
        "                        verbose=1, mode='auto', restore_best_weights=True)\n",
        "\n",
        "histories = model.fit(X_train,y_train, validation_data=(X_test,y_test),\n",
        "          callbacks=[monitor],verbose=2,epochs=100)"
      ],
      "execution_count": null,
      "outputs": [
        {
          "output_type": "stream",
          "text": [
            "Epoch 1/100\n",
            "4391/4391 - 10s - loss: 0.6148 - accuracy: 0.8033 - val_loss: 0.5124 - val_accuracy: 0.8335\n",
            "Epoch 2/100\n",
            "4391/4391 - 10s - loss: 0.4903 - accuracy: 0.8384 - val_loss: 0.4703 - val_accuracy: 0.8432\n",
            "Epoch 3/100\n",
            "4391/4391 - 10s - loss: 0.4534 - accuracy: 0.8495 - val_loss: 0.4350 - val_accuracy: 0.8553\n",
            "Epoch 4/100\n",
            "4391/4391 - 10s - loss: 0.4302 - accuracy: 0.8571 - val_loss: 0.4227 - val_accuracy: 0.8609\n",
            "Epoch 5/100\n",
            "4391/4391 - 10s - loss: 0.4140 - accuracy: 0.8616 - val_loss: 0.4056 - val_accuracy: 0.8654\n",
            "Epoch 6/100\n",
            "4391/4391 - 10s - loss: 0.4014 - accuracy: 0.8666 - val_loss: 0.4006 - val_accuracy: 0.8681\n",
            "Epoch 7/100\n",
            "4391/4391 - 10s - loss: 0.3912 - accuracy: 0.8702 - val_loss: 0.3930 - val_accuracy: 0.8698\n",
            "Epoch 8/100\n",
            "4391/4391 - 10s - loss: 0.3827 - accuracy: 0.8725 - val_loss: 0.3769 - val_accuracy: 0.8747\n",
            "Epoch 9/100\n",
            "4391/4391 - 10s - loss: 0.3762 - accuracy: 0.8754 - val_loss: 0.3764 - val_accuracy: 0.8761\n",
            "Epoch 10/100\n",
            "4391/4391 - 10s - loss: 0.3711 - accuracy: 0.8764 - val_loss: 0.3701 - val_accuracy: 0.8762\n",
            "Epoch 11/100\n",
            "4391/4391 - 10s - loss: 0.3655 - accuracy: 0.8780 - val_loss: 0.3733 - val_accuracy: 0.8739\n",
            "Epoch 12/100\n",
            "4391/4391 - 10s - loss: 0.3605 - accuracy: 0.8797 - val_loss: 0.3620 - val_accuracy: 0.8788\n",
            "Epoch 13/100\n",
            "4391/4391 - 10s - loss: 0.3561 - accuracy: 0.8812 - val_loss: 0.3589 - val_accuracy: 0.8785\n",
            "Epoch 14/100\n",
            "4391/4391 - 10s - loss: 0.3536 - accuracy: 0.8819 - val_loss: 0.3675 - val_accuracy: 0.8781\n",
            "Epoch 15/100\n",
            "4391/4391 - 10s - loss: 0.3501 - accuracy: 0.8831 - val_loss: 0.3572 - val_accuracy: 0.8807\n",
            "Epoch 16/100\n",
            "4391/4391 - 10s - loss: 0.3462 - accuracy: 0.8836 - val_loss: 0.3411 - val_accuracy: 0.8856\n",
            "Epoch 17/100\n",
            "4391/4391 - 10s - loss: 0.3439 - accuracy: 0.8848 - val_loss: 0.3470 - val_accuracy: 0.8826\n",
            "Epoch 18/100\n",
            "4391/4391 - 10s - loss: 0.3410 - accuracy: 0.8853 - val_loss: 0.3448 - val_accuracy: 0.8843\n",
            "Epoch 19/100\n",
            "4391/4391 - 10s - loss: 0.3398 - accuracy: 0.8857 - val_loss: 0.3402 - val_accuracy: 0.8853\n",
            "Epoch 20/100\n",
            "4391/4391 - 10s - loss: 0.3378 - accuracy: 0.8863 - val_loss: 0.3387 - val_accuracy: 0.8846\n",
            "Epoch 21/100\n",
            "4391/4391 - 10s - loss: 0.3348 - accuracy: 0.8871 - val_loss: 0.3319 - val_accuracy: 0.8874\n",
            "Epoch 22/100\n",
            "4391/4391 - 10s - loss: 0.3331 - accuracy: 0.8879 - val_loss: 0.3404 - val_accuracy: 0.8847\n",
            "Epoch 23/100\n",
            "4391/4391 - 10s - loss: 0.3317 - accuracy: 0.8879 - val_loss: 0.3344 - val_accuracy: 0.8897\n",
            "Epoch 24/100\n",
            "4391/4391 - 10s - loss: 0.3299 - accuracy: 0.8888 - val_loss: 0.3392 - val_accuracy: 0.8875\n",
            "Epoch 25/100\n",
            "4391/4391 - 10s - loss: 0.3271 - accuracy: 0.8889 - val_loss: 0.3389 - val_accuracy: 0.8869\n",
            "Epoch 26/100\n",
            "4391/4391 - 10s - loss: 0.3253 - accuracy: 0.8898 - val_loss: 0.3266 - val_accuracy: 0.8909\n",
            "Epoch 27/100\n",
            "4391/4391 - 11s - loss: 0.3235 - accuracy: 0.8898 - val_loss: 0.3299 - val_accuracy: 0.8877\n",
            "Epoch 28/100\n",
            "4391/4391 - 10s - loss: 0.3234 - accuracy: 0.8912 - val_loss: 0.3353 - val_accuracy: 0.8871\n",
            "Epoch 29/100\n",
            "4391/4391 - 10s - loss: 0.3210 - accuracy: 0.8915 - val_loss: 0.3257 - val_accuracy: 0.8898\n",
            "Epoch 30/100\n",
            "4391/4391 - 10s - loss: 0.3195 - accuracy: 0.8913 - val_loss: 0.3406 - val_accuracy: 0.8837\n",
            "Epoch 31/100\n",
            "4391/4391 - 10s - loss: 0.3191 - accuracy: 0.8920 - val_loss: 0.3313 - val_accuracy: 0.8910\n",
            "Epoch 32/100\n",
            "4391/4391 - 10s - loss: 0.3174 - accuracy: 0.8924 - val_loss: 0.3320 - val_accuracy: 0.8886\n",
            "Epoch 33/100\n",
            "4391/4391 - 10s - loss: 0.3172 - accuracy: 0.8926 - val_loss: 0.3314 - val_accuracy: 0.8865\n",
            "Epoch 34/100\n",
            "4391/4391 - 10s - loss: 0.3152 - accuracy: 0.8928 - val_loss: 0.3157 - val_accuracy: 0.8923\n",
            "Epoch 35/100\n",
            "4391/4391 - 10s - loss: 0.3135 - accuracy: 0.8930 - val_loss: 0.3277 - val_accuracy: 0.8909\n",
            "Epoch 36/100\n",
            "4391/4391 - 10s - loss: 0.3127 - accuracy: 0.8937 - val_loss: 0.3301 - val_accuracy: 0.8898\n",
            "Epoch 37/100\n",
            "4391/4391 - 10s - loss: 0.3123 - accuracy: 0.8937 - val_loss: 0.3216 - val_accuracy: 0.8923\n",
            "Epoch 38/100\n",
            "4391/4391 - 10s - loss: 0.3104 - accuracy: 0.8938 - val_loss: 0.3235 - val_accuracy: 0.8929\n",
            "Epoch 39/100\n",
            "4391/4391 - 10s - loss: 0.3097 - accuracy: 0.8950 - val_loss: 0.3236 - val_accuracy: 0.8900\n",
            "Epoch 40/100\n",
            "4391/4391 - 10s - loss: 0.3085 - accuracy: 0.8942 - val_loss: 0.3212 - val_accuracy: 0.8907\n",
            "Epoch 41/100\n",
            "4391/4391 - 10s - loss: 0.3091 - accuracy: 0.8949 - val_loss: 0.3155 - val_accuracy: 0.8949\n",
            "Epoch 42/100\n",
            "4391/4391 - 10s - loss: 0.3082 - accuracy: 0.8951 - val_loss: 0.3151 - val_accuracy: 0.8931\n",
            "Epoch 43/100\n",
            "4391/4391 - 10s - loss: 0.3058 - accuracy: 0.8954 - val_loss: 0.3130 - val_accuracy: 0.8938\n",
            "Epoch 44/100\n",
            "4391/4391 - 10s - loss: 0.3053 - accuracy: 0.8954 - val_loss: 0.3194 - val_accuracy: 0.8918\n",
            "Epoch 45/100\n",
            "4391/4391 - 9s - loss: 0.3051 - accuracy: 0.8955 - val_loss: 0.3228 - val_accuracy: 0.8899\n",
            "Epoch 46/100\n",
            "4391/4391 - 10s - loss: 0.3048 - accuracy: 0.8958 - val_loss: 0.3380 - val_accuracy: 0.8850\n",
            "Epoch 47/100\n",
            "4391/4391 - 9s - loss: 0.3032 - accuracy: 0.8958 - val_loss: 0.3260 - val_accuracy: 0.8890\n",
            "Epoch 48/100\n",
            "4391/4391 - 10s - loss: 0.3034 - accuracy: 0.8954 - val_loss: 0.3253 - val_accuracy: 0.8899\n",
            "Epoch 49/100\n",
            "4391/4391 - 10s - loss: 0.3029 - accuracy: 0.8952 - val_loss: 0.3185 - val_accuracy: 0.8923\n",
            "Epoch 50/100\n",
            "4391/4391 - 10s - loss: 0.3018 - accuracy: 0.8963 - val_loss: 0.3086 - val_accuracy: 0.8949\n",
            "Epoch 51/100\n",
            "4391/4391 - 10s - loss: 0.3004 - accuracy: 0.8960 - val_loss: 0.3031 - val_accuracy: 0.8972\n",
            "Epoch 52/100\n",
            "4391/4391 - 10s - loss: 0.3005 - accuracy: 0.8964 - val_loss: 0.3102 - val_accuracy: 0.8949\n",
            "Epoch 53/100\n",
            "4391/4391 - 9s - loss: 0.3000 - accuracy: 0.8973 - val_loss: 0.3061 - val_accuracy: 0.8969\n",
            "Epoch 54/100\n",
            "4391/4391 - 9s - loss: 0.2988 - accuracy: 0.8969 - val_loss: 0.3142 - val_accuracy: 0.8933\n",
            "Epoch 55/100\n",
            "4391/4391 - 10s - loss: 0.2998 - accuracy: 0.8968 - val_loss: 0.3120 - val_accuracy: 0.8947\n",
            "Epoch 56/100\n",
            "4391/4391 - 9s - loss: 0.2986 - accuracy: 0.8966 - val_loss: 0.3156 - val_accuracy: 0.8944\n",
            "Epoch 57/100\n",
            "4391/4391 - 9s - loss: 0.2976 - accuracy: 0.8977 - val_loss: 0.3099 - val_accuracy: 0.8945\n",
            "Epoch 58/100\n",
            "4391/4391 - 10s - loss: 0.2974 - accuracy: 0.8964 - val_loss: 0.3168 - val_accuracy: 0.8933\n",
            "Epoch 59/100\n",
            "4391/4391 - 10s - loss: 0.2975 - accuracy: 0.8976 - val_loss: 0.3154 - val_accuracy: 0.8940\n",
            "Epoch 60/100\n",
            "4391/4391 - 11s - loss: 0.2951 - accuracy: 0.8980 - val_loss: 0.3179 - val_accuracy: 0.8912\n",
            "Epoch 61/100\n",
            "4391/4391 - 9s - loss: 0.2971 - accuracy: 0.8985 - val_loss: 0.3052 - val_accuracy: 0.8956\n",
            "Epoch 62/100\n",
            "4391/4391 - 9s - loss: 0.2953 - accuracy: 0.8979 - val_loss: 0.3214 - val_accuracy: 0.8914\n",
            "Epoch 63/100\n",
            "4391/4391 - 9s - loss: 0.2950 - accuracy: 0.8981 - val_loss: 0.3132 - val_accuracy: 0.8937\n",
            "Epoch 64/100\n",
            "4391/4391 - 9s - loss: 0.2949 - accuracy: 0.8978 - val_loss: 0.3026 - val_accuracy: 0.8980\n",
            "Epoch 65/100\n",
            "4391/4391 - 9s - loss: 0.2951 - accuracy: 0.8985 - val_loss: 0.3140 - val_accuracy: 0.8927\n",
            "Epoch 66/100\n",
            "4391/4391 - 9s - loss: 0.2936 - accuracy: 0.8983 - val_loss: 0.3015 - val_accuracy: 0.8970\n",
            "Epoch 67/100\n",
            "4391/4391 - 10s - loss: 0.2928 - accuracy: 0.8982 - val_loss: 0.3173 - val_accuracy: 0.8959\n",
            "Epoch 68/100\n",
            "4391/4391 - 10s - loss: 0.2928 - accuracy: 0.8988 - val_loss: 0.3077 - val_accuracy: 0.8972\n",
            "Epoch 69/100\n",
            "4391/4391 - 9s - loss: 0.2927 - accuracy: 0.8986 - val_loss: 0.3113 - val_accuracy: 0.8984\n",
            "Epoch 70/100\n",
            "4391/4391 - 9s - loss: 0.2931 - accuracy: 0.8991 - val_loss: 0.3168 - val_accuracy: 0.8911\n",
            "Epoch 71/100\n",
            "4391/4391 - 10s - loss: 0.2925 - accuracy: 0.8988 - val_loss: 0.3145 - val_accuracy: 0.8939\n",
            "Epoch 72/100\n",
            "4391/4391 - 9s - loss: 0.2911 - accuracy: 0.8994 - val_loss: 0.3020 - val_accuracy: 0.8985\n",
            "Epoch 73/100\n",
            "4391/4391 - 9s - loss: 0.2918 - accuracy: 0.8994 - val_loss: 0.3118 - val_accuracy: 0.8964\n",
            "Epoch 74/100\n",
            "4391/4391 - 10s - loss: 0.2915 - accuracy: 0.8994 - val_loss: 0.3124 - val_accuracy: 0.8951\n",
            "Epoch 75/100\n",
            "4391/4391 - 9s - loss: 0.2914 - accuracy: 0.8991 - val_loss: 0.3117 - val_accuracy: 0.8961\n",
            "Epoch 76/100\n",
            "4391/4391 - 10s - loss: 0.2903 - accuracy: 0.8998 - val_loss: 0.3023 - val_accuracy: 0.8973\n",
            "Epoch 77/100\n",
            "4391/4391 - 10s - loss: 0.2896 - accuracy: 0.9003 - val_loss: 0.3155 - val_accuracy: 0.8935\n",
            "Epoch 78/100\n",
            "4391/4391 - 9s - loss: 0.2903 - accuracy: 0.9000 - val_loss: 0.3062 - val_accuracy: 0.8970\n",
            "Epoch 79/100\n",
            "4391/4391 - 9s - loss: 0.2899 - accuracy: 0.8995 - val_loss: 0.3034 - val_accuracy: 0.8966\n",
            "Epoch 80/100\n",
            "4391/4391 - 9s - loss: 0.2893 - accuracy: 0.9002 - val_loss: 0.3020 - val_accuracy: 0.8989\n",
            "Epoch 81/100\n",
            "4391/4391 - 9s - loss: 0.2892 - accuracy: 0.9000 - val_loss: 0.3120 - val_accuracy: 0.8946\n",
            "Epoch 82/100\n",
            "4391/4391 - 9s - loss: 0.2894 - accuracy: 0.8996 - val_loss: 0.3177 - val_accuracy: 0.8938\n",
            "Epoch 83/100\n",
            "4391/4391 - 9s - loss: 0.2883 - accuracy: 0.8998 - val_loss: 0.3204 - val_accuracy: 0.8914\n",
            "Epoch 84/100\n",
            "4391/4391 - 10s - loss: 0.2880 - accuracy: 0.9007 - val_loss: 0.3095 - val_accuracy: 0.8956\n",
            "Epoch 85/100\n",
            "4391/4391 - 10s - loss: 0.2875 - accuracy: 0.9008 - val_loss: 0.3022 - val_accuracy: 0.8967\n",
            "Epoch 86/100\n",
            "Restoring model weights from the end of the best epoch.\n",
            "4391/4391 - 9s - loss: 0.2878 - accuracy: 0.9012 - val_loss: 0.3148 - val_accuracy: 0.8937\n",
            "Epoch 00086: early stopping\n"
          ],
          "name": "stdout"
        }
      ]
    },
    {
      "cell_type": "code",
      "metadata": {
        "id": "bH4bX1wPQAUB",
        "colab": {
          "base_uri": "https://localhost:8080/",
          "height": 35
        },
        "outputId": "0044f16e-0829-4787-eee8-1116e7f6a5b5"
      },
      "source": [
        "print(histories.history.keys())"
      ],
      "execution_count": null,
      "outputs": [
        {
          "output_type": "stream",
          "text": [
            "dict_keys(['loss', 'accuracy', 'val_loss', 'val_accuracy'])\n"
          ],
          "name": "stdout"
        }
      ]
    },
    {
      "cell_type": "code",
      "metadata": {
        "id": "bTuLjDiyjB8W",
        "colab": {
          "base_uri": "https://localhost:8080/",
          "height": 310
        },
        "outputId": "3c205f86-2771-4a49-ce4a-12903932700a"
      },
      "source": [
        "pip install git+https://github.com/tensorflow/docs"
      ],
      "execution_count": null,
      "outputs": [
        {
          "output_type": "stream",
          "text": [
            "Collecting git+https://github.com/tensorflow/docs\n",
            "  Cloning https://github.com/tensorflow/docs to /tmp/pip-req-build-6ke628p7\n",
            "  Running command git clone -q https://github.com/tensorflow/docs /tmp/pip-req-build-6ke628p7\n",
            "Requirement already satisfied (use --upgrade to upgrade): tensorflow-docs===0.0.01df2700eac33561cf29d0605ec82af0d59fbf6c1- from git+https://github.com/tensorflow/docs in /usr/local/lib/python3.6/dist-packages\n",
            "Requirement already satisfied: astor in /usr/local/lib/python3.6/dist-packages (from tensorflow-docs===0.0.01df2700eac33561cf29d0605ec82af0d59fbf6c1-) (0.8.1)\n",
            "Requirement already satisfied: absl-py in /usr/local/lib/python3.6/dist-packages (from tensorflow-docs===0.0.01df2700eac33561cf29d0605ec82af0d59fbf6c1-) (0.10.0)\n",
            "Requirement already satisfied: protobuf in /usr/local/lib/python3.6/dist-packages (from tensorflow-docs===0.0.01df2700eac33561cf29d0605ec82af0d59fbf6c1-) (3.12.4)\n",
            "Requirement already satisfied: pyyaml in /usr/local/lib/python3.6/dist-packages (from tensorflow-docs===0.0.01df2700eac33561cf29d0605ec82af0d59fbf6c1-) (3.13)\n",
            "Requirement already satisfied: six in /usr/local/lib/python3.6/dist-packages (from absl-py->tensorflow-docs===0.0.01df2700eac33561cf29d0605ec82af0d59fbf6c1-) (1.15.0)\n",
            "Requirement already satisfied: setuptools in /usr/local/lib/python3.6/dist-packages (from protobuf->tensorflow-docs===0.0.01df2700eac33561cf29d0605ec82af0d59fbf6c1-) (50.3.0)\n",
            "Building wheels for collected packages: tensorflow-docs\n",
            "  Building wheel for tensorflow-docs (setup.py) ... \u001b[?25l\u001b[?25hdone\n",
            "  Created wheel for tensorflow-docs: filename=tensorflow_docs-0.0.01df2700eac33561cf29d0605ec82af0d59fbf6c1_-cp36-none-any.whl size=144260 sha256=ecff9f7129bfc6ceea99a6b5cff8a7c675f8dda8e3a978b6e1c587ef60bbe37b\n",
            "  Stored in directory: /tmp/pip-ephem-wheel-cache-nd98syag/wheels/eb/1b/35/fce87697be00d2fc63e0b4b395b0d9c7e391a10e98d9a0d97f\n",
            "Successfully built tensorflow-docs\n"
          ],
          "name": "stdout"
        }
      ]
    },
    {
      "cell_type": "code",
      "metadata": {
        "id": "mSYvEPkFQD5h"
      },
      "source": [
        "import tensorflow_docs as tfdocs\n",
        "import tensorflow_docs.modeling\n",
        "import tensorflow_docs.plots\n",
        "from  IPython import display\n",
        "import pathlib\n",
        "import shutil\n",
        "import tempfile"
      ],
      "execution_count": null,
      "outputs": []
    },
    {
      "cell_type": "code",
      "metadata": {
        "id": "orn4kJAFQKTm",
        "colab": {
          "base_uri": "https://localhost:8080/",
          "height": 295
        },
        "outputId": "16723abd-5ac2-4a2a-b910-5c90af6e39aa"
      },
      "source": [
        "plt.plot(histories.history['accuracy'], 'bo')\n",
        "plt.plot(histories.history['val_accuracy'],'b' )\n",
        "plt.title('Training and validation accuracy')\n",
        "plt.ylabel('accuracy')\n",
        "plt.xlabel('epoch')\n",
        "plt.legend(['train', 'test'], loc='upper left')\n",
        "plt.savefig(\"accu.png\", dpi=400)\n",
        "plt.show()"
      ],
      "execution_count": null,
      "outputs": [
        {
          "output_type": "display_data",
          "data": {
            "image/png": "[encoded data removed]",
            "text/plain": [
              "<Figure size 432x288 with 1 Axes>"
            ]
          },
          "metadata": {
            "tags": [],
            "needs_background": "light"
          }
        }
      ]
    },
    {
      "cell_type": "code",
      "metadata": {
        "id": "37hMAXCzQZpu"
      },
      "source": [
        "y_pred = model.predict(scaled_features_blind)\n",
        "y_pred_idx = np.argmax(y_pred, axis=1)"
      ],
      "execution_count": null,
      "outputs": []
    },
    {
      "cell_type": "code",
      "metadata": {
        "id": "fxvnafU_eG2Y"
      },
      "source": [
        "blind['Pred_Facies']= y_pred_idx"
      ],
      "execution_count": null,
      "outputs": []
    },
    {
      "cell_type": "code",
      "metadata": {
        "id": "_HMR8wsPjKAv",
        "colab": {
          "base_uri": "https://localhost:8080/",
          "height": 235
        },
        "outputId": "b64db9b1-6059-4680-b66f-d1169ac3e7f9"
      },
      "source": [
        "test_prediction=blind['Pred_Facies']\n",
        "test_prediction"
      ],
      "execution_count": null,
      "outputs": [
        {
          "output_type": "execute_result",
          "data": {
            "text/plain": [
              "0        1\n",
              "1        1\n",
              "2        1\n",
              "3        1\n",
              "4        1\n",
              "        ..\n",
              "20276    1\n",
              "20277    1\n",
              "20278    1\n",
              "20279    1\n",
              "20280    1\n",
              "Name: Pred_Facies, Length: 20281, dtype: int64"
            ]
          },
          "metadata": {
            "tags": []
          },
          "execution_count": 156
        }
      ]
    },
    {
      "cell_type": "code",
      "metadata": {
        "id": "TB-5B_6WjWlD"
      },
      "source": [
        "lithology_numbers = {0: 30000,\n",
        "                 1: 65030,\n",
        "                 2: 65000,\n",
        "                 3: 80000,\n",
        "                 4: 74000,\n",
        "                 5: 70000,\n",
        "                 6: 70032,\n",
        "                 7: 88000,\n",
        "                 8: 86000,\n",
        "                 9: 99000,\n",
        "                 10: 90000,\n",
        "                 11: 93000}"
      ],
      "execution_count": null,
      "outputs": []
    },
    {
      "cell_type": "code",
      "metadata": {
        "id": "64nkZ9EumHYP"
      },
      "source": [
        "\n",
        "test_prediction = test_prediction.map(lithology_numbers)"
      ],
      "execution_count": null,
      "outputs": []
    },
    {
      "cell_type": "code",
      "metadata": {
        "id": "lfzUl8dimX_x",
        "colab": {
          "base_uri": "https://localhost:8080/",
          "height": 235
        },
        "outputId": "d38ab12f-4394-4bd6-baa0-b7e21983a928"
      },
      "source": [
        "test_prediction"
      ],
      "execution_count": null,
      "outputs": [
        {
          "output_type": "execute_result",
          "data": {
            "text/plain": [
              "0        65030\n",
              "1        65030\n",
              "2        65030\n",
              "3        65030\n",
              "4        65030\n",
              "         ...  \n",
              "20276    65030\n",
              "20277    65030\n",
              "20278    65030\n",
              "20279    65030\n",
              "20280    65030\n",
              "Name: Pred_Facies, Length: 20281, dtype: int64"
            ]
          },
          "metadata": {
            "tags": []
          },
          "execution_count": 159
        }
      ]
    },
    {
      "cell_type": "code",
      "metadata": {
        "id": "ZWnuItbNmxVh"
      },
      "source": [
        "Predictions=pd.DataFrame(test_prediction)\n",
        "Predictions.to_csv('Facies_C4.csv')"
      ],
      "execution_count": null,
      "outputs": []
    },
    {
      "cell_type": "code",
      "metadata": {
        "id": "M9d1HVxlJkAC"
      },
      "source": [
        ""
      ],
      "execution_count": null,
      "outputs": []
    }
  ]
}